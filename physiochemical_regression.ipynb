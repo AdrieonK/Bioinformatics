{
  "nbformat": 4,
  "nbformat_minor": 0,
  "metadata": {
    "colab": {
      "provenance": [],
      "authorship_tag": "ABX9TyPsjJpKPMKzj5uICho4OHbD",
      "include_colab_link": true
    },
    "kernelspec": {
      "name": "python3",
      "display_name": "Python 3"
    },
    "language_info": {
      "name": "python"
    }
  },
  "cells": [
    {
      "cell_type": "markdown",
      "metadata": {
        "id": "view-in-github",
        "colab_type": "text"
      },
      "source": [
        "<a href=\"https://colab.research.google.com/github/AdrieonK/Bioinformatics-Data-Science/blob/main/physiochemical_regression.ipynb\" target=\"_parent\"><img src=\"https://colab.research.google.com/assets/colab-badge.svg\" alt=\"Open In Colab\"/></a>"
      ]
    },
    {
      "cell_type": "code",
      "execution_count": 1,
      "metadata": {
        "colab": {
          "base_uri": "https://localhost:8080/"
        },
        "id": "Nao_dwiFQM-e",
        "outputId": "14d6b815-ed31-46e8-da0a-e24c60ddbd0e"
      },
      "outputs": [
        {
          "output_type": "stream",
          "name": "stdout",
          "text": [
            "--2025-02-11 05:15:01--  https://archive.ics.uci.edu/static/public/265/physicochemical+properties+of+protein+tertiary+structure.zip\n",
            "Resolving archive.ics.uci.edu (archive.ics.uci.edu)... 128.195.10.252\n",
            "Connecting to archive.ics.uci.edu (archive.ics.uci.edu)|128.195.10.252|:443... connected.\n",
            "HTTP request sent, awaiting response... 200 OK\n",
            "Length: unspecified\n",
            "Saving to: ‘physicochemical+properties+of+protein+tertiary+structure.zip.1’\n",
            "\n",
            "physicochemical+pro     [ <=>                ]   3.37M  17.3MB/s    in 0.2s    \n",
            "\n",
            "2025-02-11 05:15:01 (17.3 MB/s) - ‘physicochemical+properties+of+protein+tertiary+structure.zip.1’ saved [3528824]\n",
            "\n"
          ]
        }
      ],
      "source": [
        "!wget https://archive.ics.uci.edu/static/public/265/physicochemical+properties+of+protein+tertiary+structure.zip"
      ]
    },
    {
      "cell_type": "code",
      "source": [
        "!unzip '/content/physicochemical+properties+of+protein+tertiary+structure.zip'"
      ],
      "metadata": {
        "colab": {
          "base_uri": "https://localhost:8080/"
        },
        "id": "Hoz2AD9TQPSs",
        "outputId": "a9d0e470-1570-41e7-f0de-7b2e0666073e"
      },
      "execution_count": 2,
      "outputs": [
        {
          "output_type": "stream",
          "name": "stdout",
          "text": [
            "Archive:  /content/physicochemical+properties+of+protein+tertiary+structure.zip\n",
            "replace CASP.csv? [y]es, [n]o, [A]ll, [N]one, [r]ename: y\n",
            " extracting: CASP.csv                \n"
          ]
        }
      ]
    },
    {
      "cell_type": "markdown",
      "source": [
        "**Column Key**\n",
        "\n",
        "RMSD-Size of the residue.\n",
        "F1 - Total surface area.\n",
        "F2 - Non polar exposed area.\n",
        "F3 - Fractional area of exposed non polar residue.\n",
        "F4 - Fractional area of exposed non polar part of residue.\n",
        "F5 - Molecular mass weighted exposed area.\n",
        "F6 - Average deviation from standard exposed area of residue.\n",
        "F7 - Euclidian distance.\n",
        "F8 - Secondary structure penalty.\n",
        "F9 - Spacial Distribution constraints (N,K Value)."
      ],
      "metadata": {
        "id": "41X7ujgZQ3EL"
      }
    },
    {
      "cell_type": "code",
      "source": [
        "import pandas as pd\n",
        "import numpy as np"
      ],
      "metadata": {
        "id": "mdqHpRfCQjr4"
      },
      "execution_count": 3,
      "outputs": []
    },
    {
      "cell_type": "code",
      "source": [
        "casp_dataset = pd.read_csv('/content/CASP.csv')\n",
        "\n",
        "casp_dataset.head()"
      ],
      "metadata": {
        "colab": {
          "base_uri": "https://localhost:8080/",
          "height": 206
        },
        "id": "9-u2CZHhQYGk",
        "outputId": "c7ec9cad-6020-46eb-d62d-bb2fd73a094f"
      },
      "execution_count": 4,
      "outputs": [
        {
          "output_type": "execute_result",
          "data": {
            "text/plain": [
              "     RMSD        F1       F2       F3        F4            F5        F6  \\\n",
              "0  17.284  13558.30  4305.35  0.31754  162.1730  1.872791e+06  215.3590   \n",
              "1   6.021   6191.96  1623.16  0.26213   53.3894  8.034467e+05   87.2024   \n",
              "2   9.275   7725.98  1726.28  0.22343   67.2887  1.075648e+06   81.7913   \n",
              "3  15.851   8424.58  2368.25  0.28111   67.8325  1.210472e+06  109.4390   \n",
              "4   7.962   7460.84  1736.94  0.23280   52.4123  1.021020e+06   94.5234   \n",
              "\n",
              "        F7   F8       F9  \n",
              "0  4287.87  102  27.0302  \n",
              "1  3328.91   39  38.5468  \n",
              "2  2981.04   29  38.8119  \n",
              "3  3248.22   70  39.0651  \n",
              "4  2814.42   41  39.9147  "
            ],
            "text/html": [
              "\n",
              "  <div id=\"df-0ab4a5f1-27d6-4715-83cc-79fa68408028\" class=\"colab-df-container\">\n",
              "    <div>\n",
              "<style scoped>\n",
              "    .dataframe tbody tr th:only-of-type {\n",
              "        vertical-align: middle;\n",
              "    }\n",
              "\n",
              "    .dataframe tbody tr th {\n",
              "        vertical-align: top;\n",
              "    }\n",
              "\n",
              "    .dataframe thead th {\n",
              "        text-align: right;\n",
              "    }\n",
              "</style>\n",
              "<table border=\"1\" class=\"dataframe\">\n",
              "  <thead>\n",
              "    <tr style=\"text-align: right;\">\n",
              "      <th></th>\n",
              "      <th>RMSD</th>\n",
              "      <th>F1</th>\n",
              "      <th>F2</th>\n",
              "      <th>F3</th>\n",
              "      <th>F4</th>\n",
              "      <th>F5</th>\n",
              "      <th>F6</th>\n",
              "      <th>F7</th>\n",
              "      <th>F8</th>\n",
              "      <th>F9</th>\n",
              "    </tr>\n",
              "  </thead>\n",
              "  <tbody>\n",
              "    <tr>\n",
              "      <th>0</th>\n",
              "      <td>17.284</td>\n",
              "      <td>13558.30</td>\n",
              "      <td>4305.35</td>\n",
              "      <td>0.31754</td>\n",
              "      <td>162.1730</td>\n",
              "      <td>1.872791e+06</td>\n",
              "      <td>215.3590</td>\n",
              "      <td>4287.87</td>\n",
              "      <td>102</td>\n",
              "      <td>27.0302</td>\n",
              "    </tr>\n",
              "    <tr>\n",
              "      <th>1</th>\n",
              "      <td>6.021</td>\n",
              "      <td>6191.96</td>\n",
              "      <td>1623.16</td>\n",
              "      <td>0.26213</td>\n",
              "      <td>53.3894</td>\n",
              "      <td>8.034467e+05</td>\n",
              "      <td>87.2024</td>\n",
              "      <td>3328.91</td>\n",
              "      <td>39</td>\n",
              "      <td>38.5468</td>\n",
              "    </tr>\n",
              "    <tr>\n",
              "      <th>2</th>\n",
              "      <td>9.275</td>\n",
              "      <td>7725.98</td>\n",
              "      <td>1726.28</td>\n",
              "      <td>0.22343</td>\n",
              "      <td>67.2887</td>\n",
              "      <td>1.075648e+06</td>\n",
              "      <td>81.7913</td>\n",
              "      <td>2981.04</td>\n",
              "      <td>29</td>\n",
              "      <td>38.8119</td>\n",
              "    </tr>\n",
              "    <tr>\n",
              "      <th>3</th>\n",
              "      <td>15.851</td>\n",
              "      <td>8424.58</td>\n",
              "      <td>2368.25</td>\n",
              "      <td>0.28111</td>\n",
              "      <td>67.8325</td>\n",
              "      <td>1.210472e+06</td>\n",
              "      <td>109.4390</td>\n",
              "      <td>3248.22</td>\n",
              "      <td>70</td>\n",
              "      <td>39.0651</td>\n",
              "    </tr>\n",
              "    <tr>\n",
              "      <th>4</th>\n",
              "      <td>7.962</td>\n",
              "      <td>7460.84</td>\n",
              "      <td>1736.94</td>\n",
              "      <td>0.23280</td>\n",
              "      <td>52.4123</td>\n",
              "      <td>1.021020e+06</td>\n",
              "      <td>94.5234</td>\n",
              "      <td>2814.42</td>\n",
              "      <td>41</td>\n",
              "      <td>39.9147</td>\n",
              "    </tr>\n",
              "  </tbody>\n",
              "</table>\n",
              "</div>\n",
              "    <div class=\"colab-df-buttons\">\n",
              "\n",
              "  <div class=\"colab-df-container\">\n",
              "    <button class=\"colab-df-convert\" onclick=\"convertToInteractive('df-0ab4a5f1-27d6-4715-83cc-79fa68408028')\"\n",
              "            title=\"Convert this dataframe to an interactive table.\"\n",
              "            style=\"display:none;\">\n",
              "\n",
              "  <svg xmlns=\"http://www.w3.org/2000/svg\" height=\"24px\" viewBox=\"0 -960 960 960\">\n",
              "    <path d=\"M120-120v-720h720v720H120Zm60-500h600v-160H180v160Zm220 220h160v-160H400v160Zm0 220h160v-160H400v160ZM180-400h160v-160H180v160Zm440 0h160v-160H620v160ZM180-180h160v-160H180v160Zm440 0h160v-160H620v160Z\"/>\n",
              "  </svg>\n",
              "    </button>\n",
              "\n",
              "  <style>\n",
              "    .colab-df-container {\n",
              "      display:flex;\n",
              "      gap: 12px;\n",
              "    }\n",
              "\n",
              "    .colab-df-convert {\n",
              "      background-color: #E8F0FE;\n",
              "      border: none;\n",
              "      border-radius: 50%;\n",
              "      cursor: pointer;\n",
              "      display: none;\n",
              "      fill: #1967D2;\n",
              "      height: 32px;\n",
              "      padding: 0 0 0 0;\n",
              "      width: 32px;\n",
              "    }\n",
              "\n",
              "    .colab-df-convert:hover {\n",
              "      background-color: #E2EBFA;\n",
              "      box-shadow: 0px 1px 2px rgba(60, 64, 67, 0.3), 0px 1px 3px 1px rgba(60, 64, 67, 0.15);\n",
              "      fill: #174EA6;\n",
              "    }\n",
              "\n",
              "    .colab-df-buttons div {\n",
              "      margin-bottom: 4px;\n",
              "    }\n",
              "\n",
              "    [theme=dark] .colab-df-convert {\n",
              "      background-color: #3B4455;\n",
              "      fill: #D2E3FC;\n",
              "    }\n",
              "\n",
              "    [theme=dark] .colab-df-convert:hover {\n",
              "      background-color: #434B5C;\n",
              "      box-shadow: 0px 1px 3px 1px rgba(0, 0, 0, 0.15);\n",
              "      filter: drop-shadow(0px 1px 2px rgba(0, 0, 0, 0.3));\n",
              "      fill: #FFFFFF;\n",
              "    }\n",
              "  </style>\n",
              "\n",
              "    <script>\n",
              "      const buttonEl =\n",
              "        document.querySelector('#df-0ab4a5f1-27d6-4715-83cc-79fa68408028 button.colab-df-convert');\n",
              "      buttonEl.style.display =\n",
              "        google.colab.kernel.accessAllowed ? 'block' : 'none';\n",
              "\n",
              "      async function convertToInteractive(key) {\n",
              "        const element = document.querySelector('#df-0ab4a5f1-27d6-4715-83cc-79fa68408028');\n",
              "        const dataTable =\n",
              "          await google.colab.kernel.invokeFunction('convertToInteractive',\n",
              "                                                    [key], {});\n",
              "        if (!dataTable) return;\n",
              "\n",
              "        const docLinkHtml = 'Like what you see? Visit the ' +\n",
              "          '<a target=\"_blank\" href=https://colab.research.google.com/notebooks/data_table.ipynb>data table notebook</a>'\n",
              "          + ' to learn more about interactive tables.';\n",
              "        element.innerHTML = '';\n",
              "        dataTable['output_type'] = 'display_data';\n",
              "        await google.colab.output.renderOutput(dataTable, element);\n",
              "        const docLink = document.createElement('div');\n",
              "        docLink.innerHTML = docLinkHtml;\n",
              "        element.appendChild(docLink);\n",
              "      }\n",
              "    </script>\n",
              "  </div>\n",
              "\n",
              "\n",
              "<div id=\"df-5d4de048-43fc-4b49-8ad7-3539dba8a418\">\n",
              "  <button class=\"colab-df-quickchart\" onclick=\"quickchart('df-5d4de048-43fc-4b49-8ad7-3539dba8a418')\"\n",
              "            title=\"Suggest charts\"\n",
              "            style=\"display:none;\">\n",
              "\n",
              "<svg xmlns=\"http://www.w3.org/2000/svg\" height=\"24px\"viewBox=\"0 0 24 24\"\n",
              "     width=\"24px\">\n",
              "    <g>\n",
              "        <path d=\"M19 3H5c-1.1 0-2 .9-2 2v14c0 1.1.9 2 2 2h14c1.1 0 2-.9 2-2V5c0-1.1-.9-2-2-2zM9 17H7v-7h2v7zm4 0h-2V7h2v10zm4 0h-2v-4h2v4z\"/>\n",
              "    </g>\n",
              "</svg>\n",
              "  </button>\n",
              "\n",
              "<style>\n",
              "  .colab-df-quickchart {\n",
              "      --bg-color: #E8F0FE;\n",
              "      --fill-color: #1967D2;\n",
              "      --hover-bg-color: #E2EBFA;\n",
              "      --hover-fill-color: #174EA6;\n",
              "      --disabled-fill-color: #AAA;\n",
              "      --disabled-bg-color: #DDD;\n",
              "  }\n",
              "\n",
              "  [theme=dark] .colab-df-quickchart {\n",
              "      --bg-color: #3B4455;\n",
              "      --fill-color: #D2E3FC;\n",
              "      --hover-bg-color: #434B5C;\n",
              "      --hover-fill-color: #FFFFFF;\n",
              "      --disabled-bg-color: #3B4455;\n",
              "      --disabled-fill-color: #666;\n",
              "  }\n",
              "\n",
              "  .colab-df-quickchart {\n",
              "    background-color: var(--bg-color);\n",
              "    border: none;\n",
              "    border-radius: 50%;\n",
              "    cursor: pointer;\n",
              "    display: none;\n",
              "    fill: var(--fill-color);\n",
              "    height: 32px;\n",
              "    padding: 0;\n",
              "    width: 32px;\n",
              "  }\n",
              "\n",
              "  .colab-df-quickchart:hover {\n",
              "    background-color: var(--hover-bg-color);\n",
              "    box-shadow: 0 1px 2px rgba(60, 64, 67, 0.3), 0 1px 3px 1px rgba(60, 64, 67, 0.15);\n",
              "    fill: var(--button-hover-fill-color);\n",
              "  }\n",
              "\n",
              "  .colab-df-quickchart-complete:disabled,\n",
              "  .colab-df-quickchart-complete:disabled:hover {\n",
              "    background-color: var(--disabled-bg-color);\n",
              "    fill: var(--disabled-fill-color);\n",
              "    box-shadow: none;\n",
              "  }\n",
              "\n",
              "  .colab-df-spinner {\n",
              "    border: 2px solid var(--fill-color);\n",
              "    border-color: transparent;\n",
              "    border-bottom-color: var(--fill-color);\n",
              "    animation:\n",
              "      spin 1s steps(1) infinite;\n",
              "  }\n",
              "\n",
              "  @keyframes spin {\n",
              "    0% {\n",
              "      border-color: transparent;\n",
              "      border-bottom-color: var(--fill-color);\n",
              "      border-left-color: var(--fill-color);\n",
              "    }\n",
              "    20% {\n",
              "      border-color: transparent;\n",
              "      border-left-color: var(--fill-color);\n",
              "      border-top-color: var(--fill-color);\n",
              "    }\n",
              "    30% {\n",
              "      border-color: transparent;\n",
              "      border-left-color: var(--fill-color);\n",
              "      border-top-color: var(--fill-color);\n",
              "      border-right-color: var(--fill-color);\n",
              "    }\n",
              "    40% {\n",
              "      border-color: transparent;\n",
              "      border-right-color: var(--fill-color);\n",
              "      border-top-color: var(--fill-color);\n",
              "    }\n",
              "    60% {\n",
              "      border-color: transparent;\n",
              "      border-right-color: var(--fill-color);\n",
              "    }\n",
              "    80% {\n",
              "      border-color: transparent;\n",
              "      border-right-color: var(--fill-color);\n",
              "      border-bottom-color: var(--fill-color);\n",
              "    }\n",
              "    90% {\n",
              "      border-color: transparent;\n",
              "      border-bottom-color: var(--fill-color);\n",
              "    }\n",
              "  }\n",
              "</style>\n",
              "\n",
              "  <script>\n",
              "    async function quickchart(key) {\n",
              "      const quickchartButtonEl =\n",
              "        document.querySelector('#' + key + ' button');\n",
              "      quickchartButtonEl.disabled = true;  // To prevent multiple clicks.\n",
              "      quickchartButtonEl.classList.add('colab-df-spinner');\n",
              "      try {\n",
              "        const charts = await google.colab.kernel.invokeFunction(\n",
              "            'suggestCharts', [key], {});\n",
              "      } catch (error) {\n",
              "        console.error('Error during call to suggestCharts:', error);\n",
              "      }\n",
              "      quickchartButtonEl.classList.remove('colab-df-spinner');\n",
              "      quickchartButtonEl.classList.add('colab-df-quickchart-complete');\n",
              "    }\n",
              "    (() => {\n",
              "      let quickchartButtonEl =\n",
              "        document.querySelector('#df-5d4de048-43fc-4b49-8ad7-3539dba8a418 button');\n",
              "      quickchartButtonEl.style.display =\n",
              "        google.colab.kernel.accessAllowed ? 'block' : 'none';\n",
              "    })();\n",
              "  </script>\n",
              "</div>\n",
              "\n",
              "    </div>\n",
              "  </div>\n"
            ],
            "application/vnd.google.colaboratory.intrinsic+json": {
              "type": "dataframe",
              "variable_name": "casp_dataset",
              "summary": "{\n  \"name\": \"casp_dataset\",\n  \"rows\": 45730,\n  \"fields\": [\n    {\n      \"column\": \"RMSD\",\n      \"properties\": {\n        \"dtype\": \"number\",\n        \"std\": 6.118311675422008,\n        \"min\": 0.0,\n        \"max\": 20.999,\n        \"num_unique_values\": 15903,\n        \"samples\": [\n          17.574,\n          5.896,\n          3.97\n        ],\n        \"semantic_type\": \"\",\n        \"description\": \"\"\n      }\n    },\n    {\n      \"column\": \"F1\",\n      \"properties\": {\n        \"dtype\": \"number\",\n        \"std\": 4058.1380342572415,\n        \"min\": 2392.05,\n        \"max\": 40034.9,\n        \"num_unique_values\": 39916,\n        \"samples\": [\n          7374.66,\n          6246.9,\n          13254.2\n        ],\n        \"semantic_type\": \"\",\n        \"description\": \"\"\n      }\n    },\n    {\n      \"column\": \"F2\",\n      \"properties\": {\n        \"dtype\": \"number\",\n        \"std\": 1464.3246629911234,\n        \"min\": 403.5,\n        \"max\": 15312.0,\n        \"num_unique_values\": 39863,\n        \"samples\": [\n          2861.17,\n          1606.13,\n          1779.94\n        ],\n        \"semantic_type\": \"\",\n        \"description\": \"\"\n      }\n    },\n    {\n      \"column\": \"F3\",\n      \"properties\": {\n        \"dtype\": \"number\",\n        \"std\": 0.06288583423619629,\n        \"min\": 0.0925,\n        \"max\": 0.57769,\n        \"num_unique_values\": 20089,\n        \"samples\": [\n          0.36226,\n          0.36673,\n          0.34329\n        ],\n        \"semantic_type\": \"\",\n        \"description\": \"\"\n      }\n    },\n    {\n      \"column\": \"F4\",\n      \"properties\": {\n        \"dtype\": \"number\",\n        \"std\": 55.42498459960673,\n        \"min\": 10.3101,\n        \"max\": 369.317,\n        \"num_unique_values\": 40374,\n        \"samples\": [\n          125.542,\n          35.0508,\n          56.7589\n        ],\n        \"semantic_type\": \"\",\n        \"description\": \"\"\n      }\n    },\n    {\n      \"column\": \"F5\",\n      \"properties\": {\n        \"dtype\": \"number\",\n        \"std\": 564036.6884072053,\n        \"min\": 319490.2166,\n        \"max\": 5472011.4075,\n        \"num_unique_values\": 41868,\n        \"samples\": [\n          522453.0126,\n          1465750.1752,\n          946666.3939\n        ],\n        \"semantic_type\": \"\",\n        \"description\": \"\"\n      }\n    },\n    {\n      \"column\": \"F6\",\n      \"properties\": {\n        \"dtype\": \"number\",\n        \"std\": 69.99923014805174,\n        \"min\": 31.9704,\n        \"max\": 598.408,\n        \"num_unique_values\": 39155,\n        \"samples\": [\n          106.22,\n          151.72,\n          149.71\n        ],\n        \"semantic_type\": \"\",\n        \"description\": \"\"\n      }\n    },\n    {\n      \"column\": \"F7\",\n      \"properties\": {\n        \"dtype\": \"number\",\n        \"std\": 1993.5745749510002,\n        \"min\": 0.0,\n        \"max\": 105948.17,\n        \"num_unique_values\": 39450,\n        \"samples\": [\n          3477.94,\n          4441.88,\n          4974.56\n        ],\n        \"semantic_type\": \"\",\n        \"description\": \"\"\n      }\n    },\n    {\n      \"column\": \"F8\",\n      \"properties\": {\n        \"dtype\": \"number\",\n        \"std\": 56,\n        \"min\": 0,\n        \"max\": 350,\n        \"num_unique_values\": 341,\n        \"samples\": [\n          311,\n          284,\n          157\n        ],\n        \"semantic_type\": \"\",\n        \"description\": \"\"\n      }\n    },\n    {\n      \"column\": \"F9\",\n      \"properties\": {\n        \"dtype\": \"number\",\n        \"std\": 5.979755476397744,\n        \"min\": 15.228,\n        \"max\": 55.3009,\n        \"num_unique_values\": 37299,\n        \"samples\": [\n          24.2325,\n          32.2601,\n          30.8463\n        ],\n        \"semantic_type\": \"\",\n        \"description\": \"\"\n      }\n    }\n  ]\n}"
            }
          },
          "metadata": {},
          "execution_count": 4
        }
      ]
    },
    {
      "cell_type": "code",
      "source": [
        "casp_dataset.info()"
      ],
      "metadata": {
        "colab": {
          "base_uri": "https://localhost:8080/"
        },
        "id": "zireyf2SV0nZ",
        "outputId": "dd078760-5a49-4223-9c8d-a0bcc1ec4d99"
      },
      "execution_count": 5,
      "outputs": [
        {
          "output_type": "stream",
          "name": "stdout",
          "text": [
            "<class 'pandas.core.frame.DataFrame'>\n",
            "RangeIndex: 45730 entries, 0 to 45729\n",
            "Data columns (total 10 columns):\n",
            " #   Column  Non-Null Count  Dtype  \n",
            "---  ------  --------------  -----  \n",
            " 0   RMSD    45730 non-null  float64\n",
            " 1   F1      45730 non-null  float64\n",
            " 2   F2      45730 non-null  float64\n",
            " 3   F3      45730 non-null  float64\n",
            " 4   F4      45730 non-null  float64\n",
            " 5   F5      45730 non-null  float64\n",
            " 6   F6      45730 non-null  float64\n",
            " 7   F7      45730 non-null  float64\n",
            " 8   F8      45730 non-null  int64  \n",
            " 9   F9      45730 non-null  float64\n",
            "dtypes: float64(9), int64(1)\n",
            "memory usage: 3.5 MB\n"
          ]
        }
      ]
    },
    {
      "cell_type": "code",
      "source": [
        "print(casp_dataset.columns)"
      ],
      "metadata": {
        "colab": {
          "base_uri": "https://localhost:8080/"
        },
        "id": "wVwBhPl4V8EA",
        "outputId": "45e999cf-7e64-4c9e-95f1-76c47810ea24"
      },
      "execution_count": 6,
      "outputs": [
        {
          "output_type": "stream",
          "name": "stdout",
          "text": [
            "Index(['RMSD', 'F1', 'F2', 'F3', 'F4', 'F5', 'F6', 'F7', 'F8', 'F9'], dtype='object')\n"
          ]
        }
      ]
    },
    {
      "cell_type": "code",
      "source": [
        "import seaborn as sns\n",
        "import matplotlib.pyplot as plt"
      ],
      "metadata": {
        "id": "Dt_RGBoCXrgg"
      },
      "execution_count": 7,
      "outputs": []
    },
    {
      "cell_type": "code",
      "source": [
        "sns.boxplot(x=casp_dataset['RMSD'])"
      ],
      "metadata": {
        "colab": {
          "base_uri": "https://localhost:8080/",
          "height": 467
        },
        "id": "u7QYk8RaXw3L",
        "outputId": "2a6257f7-c63c-4e81-c47e-41adc9fa55dc"
      },
      "execution_count": 15,
      "outputs": [
        {
          "output_type": "execute_result",
          "data": {
            "text/plain": [
              "<Axes: xlabel='RMSD'>"
            ]
          },
          "metadata": {},
          "execution_count": 15
        },
        {
          "output_type": "display_data",
          "data": {
            "text/plain": [
              "<Figure size 640x480 with 1 Axes>"
            ],
            "image/png": "[encoded data removed]"
          },
          "metadata": {}
        }
      ]
    },
    {
      "cell_type": "code",
      "source": [
        "casp_features = ['F1', 'F2', 'F3', 'F4', 'F5', 'F6', 'F7', 'F8', 'F9']"
      ],
      "metadata": {
        "id": "Qw8UJIC-SCcp"
      },
      "execution_count": 17,
      "outputs": []
    },
    {
      "cell_type": "code",
      "source": [
        "from sklearn.model_selection import train_test_split"
      ],
      "metadata": {
        "id": "BGhGsyzfZs_G"
      },
      "execution_count": 14,
      "outputs": []
    },
    {
      "cell_type": "code",
      "source": [
        "X = casp_dataset[casp_features]\n",
        "y = casp_dataset['RMSD']"
      ],
      "metadata": {
        "id": "iz4YFcgFcctR"
      },
      "execution_count": 18,
      "outputs": []
    },
    {
      "cell_type": "code",
      "source": [
        "X_train, X_test, y_train, y_test = train_test_split(X, y, train_size = 0.2, random_state = 1)"
      ],
      "metadata": {
        "id": "HMbtKcU8f63J"
      },
      "execution_count": 19,
      "outputs": []
    },
    {
      "cell_type": "code",
      "source": [
        "from sklearn.preprocessing import PowerTransformer"
      ],
      "metadata": {
        "id": "_ZCChz1ZQjDP"
      },
      "execution_count": 9,
      "outputs": []
    },
    {
      "cell_type": "code",
      "source": [
        "scaler = PowerTransformer()"
      ],
      "metadata": {
        "id": "3df_b552V1NP"
      },
      "execution_count": 21,
      "outputs": []
    },
    {
      "cell_type": "code",
      "source": [
        "X_train_scaled = scaler.fit_transform(X_train)\n",
        "X_test_scaled = scaler.transform(X_test)"
      ],
      "metadata": {
        "id": "ywoo9VOghiCK"
      },
      "execution_count": 23,
      "outputs": []
    },
    {
      "cell_type": "code",
      "source": [
        "from sklearn.ensemble import RandomForestRegressor\n",
        "from sklearn.metrics import mean_absolute_error"
      ],
      "metadata": {
        "id": "-AD5xcyEikyk"
      },
      "execution_count": 25,
      "outputs": []
    },
    {
      "cell_type": "code",
      "source": [
        "rf_model = RandomForestRegressor(random_state = 1)\n",
        "\n",
        "rf_model.fit(X_train_scaled, y_train)\n",
        "\n",
        "y_pred = rf_model.predict(X_test_scaled)\n",
        "\n",
        "initial_mae = mean_absolute_error(y_test, y_pred)\n",
        "\n",
        "print(initial_mae)"
      ],
      "metadata": {
        "colab": {
          "base_uri": "https://localhost:8080/"
        },
        "id": "PkjAD8LhjsK1",
        "outputId": "aecc4140-8836-4798-8d89-79a2042974dc"
      },
      "execution_count": 27,
      "outputs": [
        {
          "output_type": "stream",
          "name": "stdout",
          "text": [
            "2.8943180055944304\n"
          ]
        }
      ]
    },
    {
      "cell_type": "code",
      "source": [
        "def get_mae_rf(n_estimators, max_depth, min_samples_split, min_samples_leaf, X_train_scaled, X_test_scaled, y_train, y_test):\n",
        "  rf_model = RandomForestRegressor(n_estimators = n_estimators, max_depth = max_depth, min_samples_split = min_samples_split, min_samples_leaf = min_samples_leaf, random_state = 1)\n",
        "\n",
        "  rf_model.fit(X_train_scaled, y_train)\n",
        "\n",
        "  rf_pred = rf_model.predict(X_test_scaled)\n",
        "\n",
        "  mae = mean_absolute_error(y_test, rf_pred)\n",
        "\n",
        "  return mae"
      ],
      "metadata": {
        "id": "iR5zld6-oDjw"
      },
      "execution_count": 28,
      "outputs": []
    },
    {
      "cell_type": "code",
      "source": [
        "best_mae = float('inf')\n",
        "best_params = {}"
      ],
      "metadata": {
        "id": "NeK0dAjgrbdW"
      },
      "execution_count": 29,
      "outputs": []
    },
    {
      "cell_type": "code",
      "source": [
        "n_estimators_list = [50, 100, 150]\n",
        "max_depth_list = [None, 10, 20]\n",
        "min_samples_split_list = [2, 5, 10]\n",
        "min_samples_leaf_list =[1, 2, 4]"
      ],
      "metadata": {
        "id": "2Gw76GPXpjkO"
      },
      "execution_count": 33,
      "outputs": []
    },
    {
      "cell_type": "code",
      "source": [
        "for n_estimators in n_estimators_list:\n",
        "  for max_depth in max_depth_list:\n",
        "    for min_samples_split in min_samples_split_list:\n",
        "      for min_samples_leaf in min_samples_leaf_list:\n",
        "        mae = get_mae_rf(n_estimators, max_depth, min_samples_split, min_samples_leaf, X_train_scaled, X_test_scaled, y_train, y_test)\n",
        "        if mae < best_mae:\n",
        "          best_mae = mae\n",
        "          best_params = {'n_estimators': n_estimators, 'max_depth': max_depth, 'min_samples_split': min_samples_split, 'min_samples_leaf': min_samples_leaf}\n",
        "\n",
        "print(\"Best MAE:\", best_mae)\n",
        "print(\"Best Parameters:\", best_params)"
      ],
      "metadata": {
        "colab": {
          "base_uri": "https://localhost:8080/"
        },
        "id": "IUeXjGN0s-Oz",
        "outputId": "b1e491e1-522a-4ab7-953c-953568fab0df"
      },
      "execution_count": 34,
      "outputs": [
        {
          "output_type": "stream",
          "name": "stdout",
          "text": [
            "Best MAE: 2.8876601270743736\n",
            "Best Parameters: {'n_estimators': 150, 'max_depth': None, 'min_samples_split': 2, 'min_samples_leaf': 1}\n"
          ]
        }
      ]
    },
    {
      "cell_type": "code",
      "source": [
        "best_rf_model = RandomForestRegressor(n_estimators = best_params['n_estimators'], max_depth = best_params['max_depth'], min_samples_split = best_params['min_samples_split'], min_samples_leaf = best_params['min_samples_leaf'], random_state = 1)\n",
        "\n",
        "best_rf_model.fit(X_train_scaled, y_train)\n",
        "\n",
        "y_test_preds = best_rf_model.predict(X_test_scaled)\n",
        "\n",
        "mae = mean_absolute_error(y_test, y_test_preds)\n",
        "\n",
        "print(mae)\n"
      ],
      "metadata": {
        "colab": {
          "base_uri": "https://localhost:8080/"
        },
        "id": "j1Sa45d_vobh",
        "outputId": "785c93f8-ac60-41e7-ad25-79e95ac1f2af"
      },
      "execution_count": 37,
      "outputs": [
        {
          "output_type": "stream",
          "name": "stdout",
          "text": [
            "2.8876601270743736\n"
          ]
        }
      ]
    },
    {
      "cell_type": "markdown",
      "source": [
        "Project Summary:\n",
        "I worked on predicting RMSD (Root Mean Square Deviation) of protein tertiary structures using a dataset that includes physicochemical properties of these structures. The goal was to build a regression model that could predict RMSD based on features like total surface area, molecular mass weighted exposed area, and other properties related to the protein structures.\n",
        "\n",
        "Steps Taken:\n",
        "Data Exploration and Preprocessing:\n",
        "\n",
        "I started by loading the dataset and performing some basic exploratory data analysis (EDA) using pandas and seaborn.\n",
        "I visualized the RMSD distribution using a boxplot to check for any outliers.\n",
        "After splitting the data into training and test sets, I applied PowerTransformer to scale the features.\n",
        "Model Selection:\n",
        "\n",
        "I chose RandomForestRegressor because it’s a robust model that can handle complex relationships and has built-in feature selection.\n",
        "Model Evaluation:\n",
        "\n",
        "I trained the model on the scaled training data and evaluated its performance using mean absolute error (MAE) on the test set. The initial MAE came out to be 2.8943.\n",
        "Hyperparameter Tuning:\n",
        "\n",
        "I did a grid search over various hyperparameters (n_estimators, max_depth, min_samples_split, and min_samples_leaf) to improve performance.\n",
        "After tuning the hyperparameters, the MAE dropped slightly to 2.8877 on the test set.\n",
        "Results:\n",
        "The model's MAE improved marginally from 2.8943 to 2.8877 after tuning, showing a small but positive change in performance.\n",
        "Key Takeaways:\n",
        "Hyperparameter Tuning:\n",
        "\n",
        "Even though the improvement was modest, hyperparameter tuning is critical for maximizing a model’s performance. It shows that carefully adjusting settings like the number of estimators and depth can lead to small but significant gains.\n",
        "Model Performance:\n",
        "\n",
        "The RandomForestRegressor performed reasonably well for this task, but since the improvements were minor, I think trying models like Gradient Boosting or XGBoost could potentially improve performance even further.\n",
        "Feature Engineering:\n",
        "\n",
        "The current model worked with the given features, but I think there’s room for improvement with more feature engineering, such as adding interaction terms or considering domain-specific features.\n",
        "I could also try techniques like feature selection or PCA to help reduce noise and improve the model.\n",
        "Outlier Handling:\n",
        "\n",
        "While I did check for outliers visually in the RMSD feature using a boxplot, I could explore methods like RobustScaler or removing extreme outliers to improve model performance, especially if outliers are impacting the model's training.\n",
        "Cross-Validation:\n",
        "\n",
        "Instead of relying on just a single train-test split, I could use cross-validation to get a more robust estimate of model performance and reduce any bias that might come from that single split.\n",
        "Next Steps:\n",
        "\n",
        "Moving to RandomizedSearchCV could be a more efficient way of exploring hyperparameters rather than a full grid search.\n",
        "I want to test different models, like Gradient Boosting or XGBoost, to see if they give better results.\n",
        "Implementing cross-validation will give me a more reliable measure of model performance.\n",
        "I’m also considering adding more or engineered features to see if that improves results.\n",
        "Conclusion:\n",
        "I’ve successfully built a model using Random Forest, and after tuning some hyperparameters, I saw a slight improvement in performance. While the improvements are modest, they suggest that the model is learning useful patterns from the data. I’m now looking into exploring different models, using cross-validation, and experimenting with feature engineering to push the model’s performance further."
      ],
      "metadata": {
        "id": "Z_Ao-bSb6Aik"
      }
    },
    {
      "cell_type": "code",
      "source": [],
      "metadata": {
        "id": "kPnU9Nxu6CCu"
      },
      "execution_count": null,
      "outputs": []
    }
  ]
}