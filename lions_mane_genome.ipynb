{
  "nbformat": 4,
  "nbformat_minor": 0,
  "metadata": {
    "colab": {
      "provenance": [],
      "authorship_tag": "ABX9TyPW2+Q5a8+lnYUJJLt8rNon",
      "include_colab_link": true
    },
    "kernelspec": {
      "name": "python3",
      "display_name": "Python 3"
    },
    "language_info": {
      "name": "python"
    }
  },
  "cells": [
    {
      "cell_type": "markdown",
      "metadata": {
        "id": "view-in-github",
        "colab_type": "text"
      },
      "source": [
        "<a href=\"https://colab.research.google.com/github/AdrieonK/Bioinformatics-Data-Science/blob/main/lions_mane_genome.ipynb\" target=\"_parent\"><img src=\"https://colab.research.google.com/assets/colab-badge.svg\" alt=\"Open In Colab\"/></a>"
      ]
    },
    {
      "cell_type": "code",
      "source": [
        "!pip install Biopython"
      ],
      "metadata": {
        "colab": {
          "base_uri": "https://localhost:8080/"
        },
        "id": "TsW8DWXuDDVS",
        "outputId": "da7d3df2-f2fe-4451-8001-d2032e8ea5dd"
      },
      "execution_count": 15,
      "outputs": [
        {
          "output_type": "stream",
          "name": "stdout",
          "text": [
            "Collecting Biopython\n",
            "  Downloading biopython-1.85-cp311-cp311-manylinux_2_17_x86_64.manylinux2014_x86_64.whl.metadata (13 kB)\n",
            "Requirement already satisfied: numpy in /usr/local/lib/python3.11/dist-packages (from Biopython) (1.26.4)\n",
            "Downloading biopython-1.85-cp311-cp311-manylinux_2_17_x86_64.manylinux2014_x86_64.whl (3.3 MB)\n",
            "\u001b[2K   \u001b[90m━━━━━━━━━━━━━━━━━━━━━━━━━━━━━━━━━━━━━━━━\u001b[0m \u001b[32m3.3/3.3 MB\u001b[0m \u001b[31m39.2 MB/s\u001b[0m eta \u001b[36m0:00:00\u001b[0m\n",
            "\u001b[?25hInstalling collected packages: Biopython\n",
            "Successfully installed Biopython-1.85\n"
          ]
        }
      ]
    },
    {
      "cell_type": "code",
      "source": [
        "from Bio import SeqIO"
      ],
      "metadata": {
        "id": "Dx1WZ6GrDLzN"
      },
      "execution_count": 16,
      "outputs": []
    },
    {
      "cell_type": "code",
      "source": [
        "import numpy as np\n",
        "import pandas as pd"
      ],
      "metadata": {
        "id": "bBNI6clVC7pC"
      },
      "execution_count": 13,
      "outputs": []
    },
    {
      "cell_type": "code",
      "source": [
        "!unzip '/content/hericium_ncbi_dataset.zip'"
      ],
      "metadata": {
        "colab": {
          "base_uri": "https://localhost:8080/"
        },
        "id": "8eHov84f9Ccq",
        "outputId": "c0e7c07a-2504-4b20-d797-62be812caaaa"
      },
      "execution_count": 7,
      "outputs": [
        {
          "output_type": "stream",
          "name": "stdout",
          "text": [
            "Archive:  /content/hericium_ncbi_dataset.zip\n",
            "  inflating: README.md               \n",
            "  inflating: ncbi_dataset/data/data_summary.tsv  \n",
            "  inflating: ncbi_dataset/data/assembly_data_report.jsonl  \n",
            "  inflating: ncbi_dataset/data/GCA_006506795.2/GCA_006506795.2_HeCS-4_2.0_genomic.fna  \n",
            "  inflating: ncbi_dataset/data/dataset_catalog.json  \n",
            "  inflating: md5sum.txt              \n"
          ]
        }
      ]
    },
    {
      "cell_type": "code",
      "execution_count": 8,
      "metadata": {
        "id": "5BujaHSi5CDT",
        "colab": {
          "base_uri": "https://localhost:8080/"
        },
        "outputId": "ed956e2c-9d4f-40cb-849d-13a658de4417"
      },
      "outputs": [
        {
          "output_type": "stream",
          "name": "stdout",
          "text": [
            "Length of Genome: 41205484\n",
            "First 100 bases: ATTGTGGGTGGGATGTACGACTGTCTACGGCTGTACGTTGTTTTCGTCCTTCAGGCTAGCATGGGTATCGTCTTCGCTTTTTCGTTGCCAGCTTTGAGCG\n"
          ]
        }
      ],
      "source": [
        "#Open/Read genome FASTA File\n",
        "\n",
        "\n",
        "def read_genome(filename):\n",
        "  genome = ''\n",
        "  with open(filename, 'r') as f:\n",
        "    for line in f:\n",
        "      if not line[0] == '>':\n",
        "        genome += line.rstrip()\n",
        "  return genome\n",
        "\n",
        "\n",
        "genome = read_genome('/content/ncbi_dataset/data/GCA_006506795.2/GCA_006506795.2_HeCS-4_2.0_genomic.fna')\n",
        "genome_len = len(genome)\n",
        "print(\"Length of Genome:\", genome_len)\n",
        "print(\"First 100 bases:\", genome[:100])"
      ]
    },
    {
      "cell_type": "code",
      "source": [
        "counts = {'A':0, 'T':0, 'G':0, 'C':0, 'N':0} #set initial freq of bases as 0 then add 1 looping through seq\n",
        "for base in genome:\n",
        "  base = base.upper()\n",
        "  counts[base] += 1\n",
        "print(\"Base frequency: \", counts)"
      ],
      "metadata": {
        "id": "2F5EPeVl62KO",
        "colab": {
          "base_uri": "https://localhost:8080/"
        },
        "outputId": "40ddeea1-463f-40cb-9a15-49a224fae6ca"
      },
      "execution_count": 19,
      "outputs": [
        {
          "output_type": "stream",
          "name": "stdout",
          "text": [
            "Base frequency:  {'A': 9796865, 'T': 9806222, 'G': 10821842, 'C': 10779855, 'N': 700}\n"
          ]
        }
      ]
    },
    {
      "cell_type": "code",
      "source": [],
      "metadata": {
        "id": "WBEL6TtbB1zx"
      },
      "execution_count": null,
      "outputs": []
    }
  ]
}