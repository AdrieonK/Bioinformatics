{
  "nbformat": 4,
  "nbformat_minor": 0,
  "metadata": {
    "colab": {
      "provenance": [],
      "include_colab_link": true
    },
    "kernelspec": {
      "name": "python3",
      "display_name": "Python 3"
    },
    "language_info": {
      "name": "python"
    }
  },
  "cells": [
    {
      "cell_type": "markdown",
      "metadata": {
        "id": "view-in-github",
        "colab_type": "text"
      },
      "source": [
        "<a href=\"https://colab.research.google.com/github/AdrieonK/Bioinformatics-Data-Science/blob/main/genomic_data_science_specialization.ipynb\" target=\"_parent\"><img src=\"https://colab.research.google.com/assets/colab-badge.svg\" alt=\"Open In Colab\"/></a>"
      ]
    },
    {
      "cell_type": "code",
      "execution_count": null,
      "metadata": {
        "colab": {
          "base_uri": "https://localhost:8080/"
        },
        "id": "T-vKByNOgCVM",
        "outputId": "0d43d460-018c-43fe-cb00-1dc75f26f40a"
      },
      "outputs": [
        {
          "output_type": "stream",
          "name": "stdout",
          "text": [
            "CGCCCACCTACTGTTAGAGATACGCTCTCCTACAAATACTCTAGGCGGGG\n",
            "Length of sequence:  50\n"
          ]
        }
      ],
      "source": [
        "# Generate a random string of nucleotide bases of 'n' length and assign to a variable\n",
        "\n",
        "import random\n",
        "\n",
        "seq = ''.join([random.choice('ACGT') for _ in range(50)])\n",
        "\n",
        "print(seq)\n",
        "print(\"Length of sequence: \", len(seq))"
      ]
    },
    {
      "cell_type": "code",
      "source": [
        "# Prefix/Suffix (i.e. start/stop codon)\n",
        "\n",
        "start_codon = seq[:3]\n",
        "\n",
        "stop_codon = seq[-3:]\n",
        "\n",
        "\n",
        "print(start_codon, stop_codon)"
      ],
      "metadata": {
        "colab": {
          "base_uri": "https://localhost:8080/"
        },
        "id": "NMfMGWcP6Onf",
        "outputId": "4da30ed6-d8ea-4a70-92a2-c9e35a4b3d34"
      },
      "execution_count": null,
      "outputs": [
        {
          "output_type": "stream",
          "name": "stdout",
          "text": [
            "CGC GGG\n"
          ]
        }
      ]
    },
    {
      "cell_type": "code",
      "source": [
        "# Longest common prefix b/w 2 strings; define function and how to call it; create index (i) & start position; define loop parameters; define task & return\n",
        "\n",
        "def longest_common_prefix (s1, s2):\n",
        "  i=0\n",
        "  while i < len(s1) and i < len(s2) and s1[i] == s2[i]:\n",
        "    i += 1\n",
        "  return s1[:i]\n",
        "longest_common_prefix('ACCCA', 'ACCAGTCGAG')"
      ],
      "metadata": {
        "colab": {
          "base_uri": "https://localhost:8080/",
          "height": 36
        },
        "id": "cXgm9Kh573qP",
        "outputId": "259970d8-c8f4-4a61-8f4a-92e61507486a"
      },
      "execution_count": null,
      "outputs": [
        {
          "output_type": "execute_result",
          "data": {
            "text/plain": [
              "'ACC'"
            ],
            "application/vnd.google.colaboratory.intrinsic+json": {
              "type": "string"
            }
          },
          "metadata": {},
          "execution_count": 9
        }
      ]
    },
    {
      "cell_type": "code",
      "source": [
        "# Do 2 strings match; Boolean\n",
        "s1 = ''\n",
        "s2 = ''\n",
        "\n",
        "\n",
        "s1 == s2\n",
        "\n",
        "\n"
      ],
      "metadata": {
        "colab": {
          "base_uri": "https://localhost:8080/"
        },
        "id": "dh-Zqa90-Oak",
        "outputId": "bd9c772f-ea93-490f-b6ae-87ac376914e3"
      },
      "execution_count": null,
      "outputs": [
        {
          "output_type": "execute_result",
          "data": {
            "text/plain": [
              "True"
            ]
          },
          "metadata": {},
          "execution_count": 18
        }
      ]
    },
    {
      "cell_type": "code",
      "source": [
        "pip install Biopython\n"
      ],
      "metadata": {
        "colab": {
          "base_uri": "https://localhost:8080/"
        },
        "id": "F_zvAEl6_InW",
        "outputId": "382d530d-b2ad-4b5a-a97b-b56187d6f555"
      },
      "execution_count": null,
      "outputs": [
        {
          "output_type": "stream",
          "name": "stdout",
          "text": [
            "Collecting Biopython\n",
            "  Downloading biopython-1.84-cp310-cp310-manylinux_2_17_x86_64.manylinux2014_x86_64.whl.metadata (12 kB)\n",
            "Requirement already satisfied: numpy in /usr/local/lib/python3.10/dist-packages (from Biopython) (1.26.4)\n",
            "Downloading biopython-1.84-cp310-cp310-manylinux_2_17_x86_64.manylinux2014_x86_64.whl (3.2 MB)\n",
            "\u001b[?25l   \u001b[90m━━━━━━━━━━━━━━━━━━━━━━━━━━━━━━━━━━━━━━━━\u001b[0m \u001b[32m0.0/3.2 MB\u001b[0m \u001b[31m?\u001b[0m eta \u001b[36m-:--:--\u001b[0m\r\u001b[2K   \u001b[91m━━━━━━━━━━━━━━━━━━━━━━━━━━━━━━━━━━━━\u001b[0m\u001b[90m╺\u001b[0m\u001b[90m━━━\u001b[0m \u001b[32m2.9/3.2 MB\u001b[0m \u001b[31m86.8 MB/s\u001b[0m eta \u001b[36m0:00:01\u001b[0m\r\u001b[2K   \u001b[90m━━━━━━━━━━━━━━━━━━━━━━━━━━━━━━━━━━━━━━━━\u001b[0m \u001b[32m3.2/3.2 MB\u001b[0m \u001b[31m46.2 MB/s\u001b[0m eta \u001b[36m0:00:00\u001b[0m\n",
            "\u001b[?25hInstalling collected packages: Biopython\n",
            "Successfully installed Biopython-1.84\n"
          ]
        }
      ]
    },
    {
      "cell_type": "code",
      "source": [
        "from Bio import SeqIO"
      ],
      "metadata": {
        "id": "J5_g3OpC_j7a"
      },
      "execution_count": null,
      "outputs": []
    },
    {
      "cell_type": "code",
      "source": [
        "import numpy as np\n",
        "import pandas as pd\n"
      ],
      "metadata": {
        "id": "qRPQWrXVASY8"
      },
      "execution_count": null,
      "outputs": []
    },
    {
      "cell_type": "code",
      "source": [
        "\n",
        "def reverse_complement(s):\n",
        "  complement = {\n",
        "    'A':'T',\n",
        "    'T':'A',\n",
        "    'G':'C',\n",
        "    'C':'G'}\n",
        "  t = ''\n",
        "  for base in s:\n",
        "    t = complement[base] + t\n",
        "  return t\n",
        "print(\"reverse complement sequence: \", reverse_complement('ATTTGCCGGAAAAA'))"
      ],
      "metadata": {
        "colab": {
          "base_uri": "https://localhost:8080/"
        },
        "id": "nj4Cf2m4AV1E",
        "outputId": "c8683fb3-6ae0-4605-f093-bfe062aa072a"
      },
      "execution_count": null,
      "outputs": [
        {
          "output_type": "stream",
          "name": "stdout",
          "text": [
            "reverse complement sequence:  TTTTTCCGGCAAAT\n"
          ]
        }
      ]
    },
    {
      "cell_type": "markdown",
      "source": [
        "#**Download & Parse FASTA file**"
      ],
      "metadata": {
        "id": "mRVlLoHeB2xE"
      }
    },
    {
      "cell_type": "code",
      "source": [
        "#from url\n",
        "\n",
        "!wget --no-check https://d28rh4a8wq0iu5.cloudfront.net/ads1/data/lambda_virus.fa"
      ],
      "metadata": {
        "colab": {
          "base_uri": "https://localhost:8080/"
        },
        "id": "51QnrVLfBoCo",
        "outputId": "57c5b6cc-fc69-47d3-869b-d4e8429eb514"
      },
      "execution_count": null,
      "outputs": [
        {
          "output_type": "stream",
          "name": "stdout",
          "text": [
            "--2024-08-06 18:56:26--  https://d28rh4a8wq0iu5.cloudfront.net/ads1/data/lambda_virus.fa\n",
            "Resolving d28rh4a8wq0iu5.cloudfront.net (d28rh4a8wq0iu5.cloudfront.net)... 13.32.192.55, 13.32.192.185, 13.32.192.207, ...\n",
            "Connecting to d28rh4a8wq0iu5.cloudfront.net (d28rh4a8wq0iu5.cloudfront.net)|13.32.192.55|:443... connected.\n",
            "HTTP request sent, awaiting response... 200 OK\n",
            "Length: 49270 (48K) [application/octet-stream]\n",
            "Saving to: ‘lambda_virus.fa’\n",
            "\n",
            "\rlambda_virus.fa       0%[                    ]       0  --.-KB/s               \rlambda_virus.fa     100%[===================>]  48.12K  --.-KB/s    in 0.002s  \n",
            "\n",
            "2024-08-06 18:56:26 (19.6 MB/s) - ‘lambda_virus.fa’ saved [49270/49270]\n",
            "\n"
          ]
        }
      ]
    },
    {
      "cell_type": "code",
      "source": [
        "# Read genome from FASTA file\n",
        "\n",
        "def read_genome(filename):\n",
        "  genome = '' #genome is a string; starts empty\n",
        "  with open (filename, 'r') as f: #open for reading; handle/call file with 'f'\n",
        "    for line in f: #loop through file and store lines as 'line'\n",
        "      if not line[0] == '>': #ignore 1st line of file based on reading the first position; if not '>' then its the seq add to genome str\n",
        "        genome += line.rstrip() #add to genome str; trim white space\n",
        "  return genome\n",
        "\n",
        "\n",
        "genome = read_genome('/content/lambda_virus.fa')\n",
        "genome_length = len(genome)\n",
        "print(\"Length of genome: \", genome_length)\n",
        "genome[:100] #1st 100 bases of genome\n"
      ],
      "metadata": {
        "colab": {
          "base_uri": "https://localhost:8080/",
          "height": 53
        },
        "id": "cP7CBw4_DLx0",
        "outputId": "01a01d78-c903-4f44-ade8-fcb31195744c"
      },
      "execution_count": null,
      "outputs": [
        {
          "output_type": "stream",
          "name": "stdout",
          "text": [
            "Length of genome:  48502\n"
          ]
        },
        {
          "output_type": "execute_result",
          "data": {
            "text/plain": [
              "'GGGCGGCGACCTCGCGGGTTTTCGCTATTTATGAAAATTTTCCGGTTTAAGGCGTTTCCGTTCTTCTTCGTCATAACTTAATGTTTTTATTTAAAATACC'"
            ],
            "application/vnd.google.colaboratory.intrinsic+json": {
              "type": "string"
            }
          },
          "metadata": {},
          "execution_count": 40
        }
      ]
    },
    {
      "cell_type": "code",
      "source": [
        "#Base Frequency\n",
        "\n",
        "counts = {'A':0, 'T':0, 'G':0, 'C':0} #set initial freq of bases as 0 then add 1 looping through seq\n",
        "for base in genome:\n",
        "  counts[base] += 1\n",
        "print(\"Base frequency: \", counts)\n"
      ],
      "metadata": {
        "colab": {
          "base_uri": "https://localhost:8080/"
        },
        "id": "wwKaycgkGAHV",
        "outputId": "c84fa6d7-b70f-4f9e-a4b0-82f417890046"
      },
      "execution_count": null,
      "outputs": [
        {
          "output_type": "stream",
          "name": "stdout",
          "text": [
            "Base frequency:  {'A': 12334, 'T': 11986, 'G': 12820, 'C': 11362}\n"
          ]
        }
      ]
    },
    {
      "cell_type": "code",
      "source": [],
      "metadata": {
        "id": "ydPDRadhH-Bj"
      },
      "execution_count": null,
      "outputs": []
    },
    {
      "cell_type": "markdown",
      "source": [
        "#**Sequencing reads in FASTQ format**"
      ],
      "metadata": {
        "id": "rvSTllQAlFwF"
      }
    },
    {
      "cell_type": "code",
      "source": [
        "#FASTQ format:\n",
        "#Name\n",
        "#Sequence\n",
        "#+ (ignore)\n",
        "#Base qualities (ASCII encoded value of Q = -10log10^p)\n",
        "\n",
        "\n",
        "\n",
        "# Phred33:\n",
        "# Base quality 'Q' value -> corresponding character\n",
        "# Round 'Q' to nearest integer, add (33), match (#) to ASCII designated characters\n",
        "\n",
        "\n",
        "def QtoPhred33(Q):\n",
        "  \"\"\"Turn Q into Phred+33 ASCII-encoded quality\"\"\"\n",
        "  return chr(Q + 33)\n",
        "\n",
        "\n",
        "def phred33ToQ(character):\n",
        "  \"Turn Phred+33 ASCII encoded quality into Q\"\"\"\n",
        "  return ord(character)-33\n",
        "\n"
      ],
      "metadata": {
        "colab": {
          "base_uri": "https://localhost:8080/",
          "height": 106
        },
        "id": "1dxjky_6lJv5",
        "outputId": "31a45b4e-d25d-44ab-ee68-41ac02ac3142"
      },
      "execution_count": null,
      "outputs": [
        {
          "output_type": "error",
          "ename": "SyntaxError",
          "evalue": "incomplete input (<ipython-input-53-56f777032767>, line 17)",
          "traceback": [
            "\u001b[0;36m  File \u001b[0;32m\"<ipython-input-53-56f777032767>\"\u001b[0;36m, line \u001b[0;32m17\u001b[0m\n\u001b[0;31m    \u001b[0m\n\u001b[0m    ^\u001b[0m\n\u001b[0;31mSyntaxError\u001b[0m\u001b[0;31m:\u001b[0m incomplete input\n"
          ]
        }
      ]
    },
    {
      "cell_type": "code",
      "source": [
        "character = 'I'\n",
        "quality_score = phred33ToQ(character)\n",
        "print(f\"The base quality score for '{character}' is {quality_score}.\")"
      ],
      "metadata": {
        "colab": {
          "base_uri": "https://localhost:8080/"
        },
        "id": "E1QOOY8xlLYh",
        "outputId": "aed6dbc7-c346-400d-90a7-346269b9573d"
      },
      "execution_count": null,
      "outputs": [
        {
          "output_type": "stream",
          "name": "stdout",
          "text": [
            "The base quality score for 'I' is 40.\n"
          ]
        }
      ]
    },
    {
      "cell_type": "code",
      "source": [],
      "metadata": {
        "id": "iHT6TLiQoyBE"
      },
      "execution_count": null,
      "outputs": []
    },
    {
      "cell_type": "markdown",
      "source": [
        "#**Practical**"
      ],
      "metadata": {
        "id": "2vzg-7v5un-k"
      }
    },
    {
      "cell_type": "code",
      "source": [
        "!wget --no-check https://d28rh4a8wq0iu5.cloudfront.net/ads1/data/SRR835775_1.first1000.fastq"
      ],
      "metadata": {
        "colab": {
          "base_uri": "https://localhost:8080/"
        },
        "id": "2IFrB09dvBLo",
        "outputId": "c260bb1a-bce7-44f7-847c-7c64718cbe3a"
      },
      "execution_count": null,
      "outputs": [
        {
          "output_type": "stream",
          "name": "stdout",
          "text": [
            "--2024-08-06 22:10:05--  https://d28rh4a8wq0iu5.cloudfront.net/ads1/data/SRR835775_1.first1000.fastq\n",
            "Resolving d28rh4a8wq0iu5.cloudfront.net (d28rh4a8wq0iu5.cloudfront.net)... 18.238.11.4, 18.238.11.26, 18.238.11.217, ...\n",
            "Connecting to d28rh4a8wq0iu5.cloudfront.net (d28rh4a8wq0iu5.cloudfront.net)|18.238.11.4|:443... connected.\n",
            "HTTP request sent, awaiting response... 200 OK\n",
            "Length: 224786 (220K) [application/octet-stream]\n",
            "Saving to: ‘SRR835775_1.first1000.fastq’\n",
            "\n",
            "SRR835775_1.first10 100%[===================>] 219.52K  --.-KB/s    in 0.03s   \n",
            "\n",
            "2024-08-06 22:10:05 (6.26 MB/s) - ‘SRR835775_1.first1000.fastq’ saved [224786/224786]\n",
            "\n"
          ]
        }
      ]
    },
    {
      "cell_type": "code",
      "source": [
        "def read_fastq(filepath):\n",
        "  sequences = []\n",
        "  qualities = []\n",
        "  with open(filepath) as fh: #fh is file handle\n",
        "    while True: # read 4 lines at a time per file format\n",
        "      fh.readline() # Tag; not needed so read but don't store to a variable\n",
        "      seq = fh.readline().rstrip() # Save to variable seq\n",
        "      fh.readline() # + symbol not needed so just read don't store to a variable\n",
        "      qual = fh.readline().rstrip()\n",
        "      if len(seq) == 0: # Check if you've reached end of file\n",
        "        break\n",
        "\n",
        "      sequences.append(seq) #if still reading lines, append values to list\n",
        "      qualities.append(qual)\n",
        "    return sequences, qualities\n",
        "\n",
        "\n",
        "\n",
        "seqs, quals = read_fastq('/content/SRR835775_1.first1000.fastq')"
      ],
      "metadata": {
        "id": "ZeHIq_3MvggT"
      },
      "execution_count": null,
      "outputs": []
    },
    {
      "cell_type": "code",
      "source": [
        "print(seqs[:5]) # print first 5 sequences"
      ],
      "metadata": {
        "colab": {
          "base_uri": "https://localhost:8080/"
        },
        "id": "bX5vegAzytvd",
        "outputId": "7baa62cf-b307-4556-d0ad-69aa923ac585"
      },
      "execution_count": null,
      "outputs": [
        {
          "output_type": "stream",
          "name": "stdout",
          "text": [
            "['TAACCCTAACCCTAACCCTAACCCTAACCCTAACCCTAACCCTAACCCTAACCCTCACCCTAACCCTAACCCTAACCGTATCCGTCACCCTAACCCTAAC', 'TAACCCTAACCCTAACCCTAACCCTAACCCTAACCCTAACCCTAACCCTAACCCTACCCTAACCCTAACCCTAACCCTAACCCTAACCCTAACCCTAACC', 'TAGGGTTAGGGTTAGGGTTAGGGTTAGGGTTAGGGTTAGGGTTAGGGTTAGGGTTAGGGTTAGGGTTAGGGTTAGGGTTAGGGTTAGGGTTAGGGTTAGG', 'TAGGGTTAGGGTTAGGGTTAGGGTTAGGGTTAGGGTTAGGGTTAGGGTTAGGGTTAGGGTTAGGGTTAAGGGTTGGGGGTTAGGGGTAGGGGTAGGGTTA', 'CTAACCCTAACCCTAACCCTAACCCTACCCTAACCCTAACCCTAACCCTAACCCTAACCCTAACCCTAACCCTAACCCAACCCTAACCCTAACCCTCACC']\n"
          ]
        }
      ]
    },
    {
      "cell_type": "code",
      "source": [
        "print(quals[:5]) # print first 5 quality strings (strings of quality scores associate with each read)"
      ],
      "metadata": {
        "colab": {
          "base_uri": "https://localhost:8080/"
        },
        "id": "Claf6OoBzAKB",
        "outputId": "6ea378c2-5660-4663-c136-5f7c488034c6"
      },
      "execution_count": null,
      "outputs": [
        {
          "output_type": "stream",
          "name": "stdout",
          "text": [
            "['???B1ADDD8??BB+C?B+:AA883CEE8?C3@DDD3)?D2;DC?8?=BAD=@C@(.6.6=A?=?@##################################', 'CCCFFFFFGHHGHJJJJJIJGIIJJJJJJJIJIJJJJJFJJFGIIIIH=CBFCF=CCEG)=>EHB2@@DEC>;;?=;(=?BBD?59?BA###########', '@@<DD?DDHHH<CBHII:CFGIGAGHIIG?CCGGE0BDHIIHIGICH8=FHGI=@EHGGGEEHH>);?CC@.;(=;?59,5<A599?CB>ABBCB><88A', '@CCFFDDFHHHDFHIJJCGGIJJHIIHJC?DHHIJ0?DGHI9BBFHICGGIGI=CDEGI=?AAEF7@?################################', '@<@FDFDDBBFHH@EBGGGEH@FFHE;EHIEGGBHG?)9?8BDGGBGGBCDGI=93=C6==C;CCD(?@>@#############################']\n"
          ]
        }
      ]
    },
    {
      "cell_type": "markdown",
      "source": [
        "##**Visualization: Histogram of different qual. scores**"
      ],
      "metadata": {
        "id": "xFwiZk-9zcVo"
      }
    },
    {
      "cell_type": "code",
      "source": [
        "# Helper function to convert ASCII symbols to quality score\n",
        "# Phredd33 encoded value to quality score (Q)\n",
        "\n",
        "\n",
        "def phred33ToQ(qual):\n",
        "  return ord(qual) - 33\n",
        "\n"
      ],
      "metadata": {
        "id": "mCVfgo-GzIQI"
      },
      "execution_count": null,
      "outputs": []
    },
    {
      "cell_type": "code",
      "source": [
        "phred33ToQ('#') # quality score for ASCII quality symbol; low = low confidence of correct read;  # less confidence in ending reads"
      ],
      "metadata": {
        "colab": {
          "base_uri": "https://localhost:8080/"
        },
        "id": "66KeC_Pa0JPz",
        "outputId": "5786bfc3-38ca-4b63-b838-6c244808221c"
      },
      "execution_count": null,
      "outputs": [
        {
          "output_type": "execute_result",
          "data": {
            "text/plain": [
              "2"
            ]
          },
          "metadata": {},
          "execution_count": 72
        }
      ]
    },
    {
      "cell_type": "code",
      "source": [
        "phred33ToQ('J') #high = high confidence of correct read; (\"less than 1 in 10000 chance of incorrect read\")"
      ],
      "metadata": {
        "colab": {
          "base_uri": "https://localhost:8080/"
        },
        "id": "-DqJ8W_H0UfE",
        "outputId": "31575ad3-1ab3-489d-cdab-7e392971c62d"
      },
      "execution_count": null,
      "outputs": [
        {
          "output_type": "execute_result",
          "data": {
            "text/plain": [
              "41"
            ]
          },
          "metadata": {},
          "execution_count": 73
        }
      ]
    },
    {
      "cell_type": "code",
      "source": [
        "def create_hist(qualities):   # define function for what we want to do, using\n",
        "  hist = [0] * 50   # freq of qual. score seen; range for score ~41; 50 for cushion\n",
        "  for qual in qualities:   # for each string of quality values in our list 'qualities'\n",
        "    for phred in qual:    # look through quality scores 'phred' in each string 'qual'\n",
        "      q = phred33ToQ(phred)   # convert to a number by calling phred function\n",
        "      hist[q] += 1    # increment value q in histogram\n",
        "  return hist\n",
        "\n",
        "h = create_hist(quals)\n",
        "print(h) #histogram values"
      ],
      "metadata": {
        "colab": {
          "base_uri": "https://localhost:8080/"
        },
        "id": "zXb6igpr1KsT",
        "outputId": "6b590ed3-52e0-4852-94d3-ea68595c7ffa"
      },
      "execution_count": null,
      "outputs": [
        {
          "output_type": "stream",
          "name": "stdout",
          "text": [
            "[0, 0, 6178, 0, 0, 54, 108, 574, 345, 83, 193, 124, 79, 165, 49, 236, 184, 327, 514, 238, 531, 254, 313, 798, 992, 888, 1396, 1488, 993, 1752, 3387, 4487, 3248, 5476, 8375, 11814, 4243, 7827, 6579, 8179, 9349, 8180, 0, 0, 0, 0, 0, 0, 0, 0]\n"
          ]
        }
      ]
    },
    {
      "cell_type": "code",
      "source": [
        "import matplotlib.pyplot as plt\n",
        "\n",
        "\n",
        "plt.bar(range(len(h)), h, color='darkgreen')\n",
        "plt.xlabel('Quality Score')\n",
        "plt.ylabel('Frequency')\n",
        "plt.grid(axis = 'y', linestyle = '--', alpha = 0.7) # Grid lines\n",
        "plt.xticks(range (0, len(h), 5)) # Show every 5th tick\n",
        "plt.title('Distribution of Base Quality Scores (Phred+33) from Sequencing Data', fontsize = 11)\n",
        "plt.show()   # distribution of quality score values\n"
      ],
      "metadata": {
        "colab": {
          "base_uri": "https://localhost:8080/",
          "height": 470
        },
        "id": "qVM6ti-J1ies",
        "outputId": "ce1c300e-482c-480c-ef90-a90c79c6121c"
      },
      "execution_count": null,
      "outputs": [
        {
          "output_type": "display_data",
          "data": {
            "text/plain": [
              "<Figure size 640x480 with 1 Axes>"
            ],
            "image/png": "[encoded data removed]"
          },
          "metadata": {}
        }
      ]
    },
    {
      "cell_type": "code",
      "source": [
        "# Analysis: note qual value of 2; base color not confident so low confidence is compounded there-after"
      ],
      "metadata": {
        "id": "cg-fQ6fo40Bi"
      },
      "execution_count": null,
      "outputs": []
    },
    {
      "cell_type": "markdown",
      "source": [
        "##**Analyzing reads by position**"
      ],
      "metadata": {
        "id": "84LKVnaTANXq"
      }
    },
    {
      "cell_type": "code",
      "source": [
        "# GC-content to confirm if mix of bases is changing as we move along the read; expected to stay the same/ be even\n",
        "# Plot for entire read to identify anomolies\n",
        "\n",
        "\n",
        "def find_gc_by_position(reads): #from strings of bases not quality scores\n",
        "  gc = [0] * 100  # Track number of gc bases at each positions in the read; all reads are of 100 len so thats why *100\n",
        "  totals = [0] * 100  # Track total number of bases at each position in the read; all reads are of 100 len so thats why *100\n",
        "\n",
        "  for read in reads: # Loop through each read in set of reads\n",
        "    for i in range(len(read)):  # Loop through each base\n",
        "      if read[i] == 'C' or read[i] == 'G':\n",
        "        gc[i] += 1\n",
        "      totals[i] += 1\n",
        "\n",
        "  for i in range(len(gc)): # divide gc by totals to get average gc content; loop through each base up to len of reads\n",
        "    if totals[i] > 0:\n",
        "      gc[i] /= float(totals[i])   # float to prevent trunkating integers\n",
        "\n",
        "  return gc\n",
        "\n",
        "gc = find_gc_by_position(seqs)\n",
        "plt.plot(range(len(gc)), gc, marker='o')\n",
        "plt.grid(True)\n",
        "plt.xlabel('Position in Read')\n",
        "plt.ylabel('GC Content')\n",
        "plt.title('GC Content Across Read Positions')\n",
        "plt.show()"
      ],
      "metadata": {
        "colab": {
          "base_uri": "https://localhost:8080/",
          "height": 472
        },
        "id": "IW1EJP-lARjW",
        "outputId": "cb7f556c-c9e2-4fd7-fe6a-fd0bfe880f59"
      },
      "execution_count": null,
      "outputs": [
        {
          "output_type": "display_data",
          "data": {
            "text/plain": [
              "<Figure size 640x480 with 1 Axes>"
            ],
            "image/png": "[encoded data removed]"
          },
          "metadata": {}
        }
      ]
    },
    {
      "cell_type": "code",
      "source": [
        "# Analysis: from L -> R consistent; fluctuations from noise; gc above 0.5"
      ],
      "metadata": {
        "id": "rmKASm9xBDXa"
      },
      "execution_count": null,
      "outputs": []
    },
    {
      "cell_type": "code",
      "source": [
        "#Distribution of bases in these sequences (collections)\n",
        "\n",
        "\n",
        "\n",
        "import collections\n",
        "\n",
        "\n",
        "count = collections.Counter()\n",
        "for seq in seqs:\n",
        "  count.update(seq)\n",
        "print(count)"
      ],
      "metadata": {
        "colab": {
          "base_uri": "https://localhost:8080/"
        },
        "id": "jJiCK2r1EdMV",
        "outputId": "1a1bd2ab-500b-48ef-c0df-8e0add5d6cbe"
      },
      "execution_count": null,
      "outputs": [
        {
          "output_type": "stream",
          "name": "stdout",
          "text": [
            "Counter({'G': 28742, 'C': 28272, 'T': 21836, 'A': 21132, 'N': 18})\n"
          ]
        }
      ]
    },
    {
      "cell_type": "code",
      "source": [
        "# gc content above 0.5; 'N' = base color has NO confidence; (18) is pretty low therefore this is good to see\n"
      ],
      "metadata": {
        "id": "4rfhRiTpE3u8"
      },
      "execution_count": null,
      "outputs": []
    },
    {
      "cell_type": "code",
      "source": [
        "#Plot Nulceotide Frequencies\n",
        "\n",
        "\n",
        "sorted_counts = sorted(count.items(), key=lambda x: x[1], reverse=True)\n",
        "print(sorted_counts)\n",
        "\n",
        "\n",
        "labels, values = zip(*count.items())\n",
        "\n",
        "\n",
        "\n",
        "plt.bar(labels, values, color=['blue', 'green', 'red', 'orange'])\n",
        "plt.xlabel('Nucleotide')\n",
        "plt.ylabel('Count')\n",
        "plt.title('Nucleotide Frequencies')\n",
        "plt.show()"
      ],
      "metadata": {
        "colab": {
          "base_uri": "https://localhost:8080/",
          "height": 489
        },
        "id": "QWZVC6zmFsTJ",
        "outputId": "0944d280-158e-4e38-98d7-70b9b893de08"
      },
      "execution_count": null,
      "outputs": [
        {
          "output_type": "stream",
          "name": "stdout",
          "text": [
            "[('G', 28742), ('C', 28272), ('T', 21836), ('A', 21132), ('N', 18)]\n"
          ]
        },
        {
          "output_type": "display_data",
          "data": {
            "text/plain": [
              "<Figure size 640x480 with 1 Axes>"
            ],
            "image/png": "[encoded data removed]"
          },
          "metadata": {}
        }
      ]
    },
    {
      "cell_type": "code",
      "source": [
        "#differences despite assumed pairing due to biases in the sequencing process or inherent sequence composition"
      ],
      "metadata": {
        "id": "5QoJ68ruHh28"
      },
      "execution_count": null,
      "outputs": []
    },
    {
      "cell_type": "code",
      "source": [],
      "metadata": {
        "id": "s35HZoI-JARS"
      },
      "execution_count": null,
      "outputs": []
    },
    {
      "cell_type": "markdown",
      "source": [
        "###**Exact Matching: Naiive algorithm**"
      ],
      "metadata": {
        "id": "9oDdvr16JjCv"
      }
    },
    {
      "cell_type": "code",
      "source": [
        "# In terms of x,y as P, T how many different alignments will we examine\n",
        "y - x + 1\n",
        "\n",
        "# Given len(x,y) what is the greatest number of comparisons possible? Max times itterate through loop?\n",
        "x(y - x + 1)\n",
        "#(i.e. aaaaaaaaaaaa)\n",
        "\n",
        "# Least?\n",
        "y - x + 1\n",
        "\n",
        "#(i.e. abbbbbbbbbbb)\n",
        "\n",
        "# Pattern P = 'AAA'\n",
        "# Total T = 'AAATAA'\n",
        "\n"
      ],
      "metadata": {
        "id": "SZZmn0NVJjiD"
      },
      "execution_count": null,
      "outputs": []
    },
    {
      "cell_type": "markdown",
      "source": [
        "#**Practical**"
      ],
      "metadata": {
        "id": "6Q9e78zUdIwW"
      }
    },
    {
      "cell_type": "markdown",
      "source": [
        "##** Matching Artificial Reads**"
      ],
      "metadata": {
        "id": "j3rSGUgXdPto"
      }
    },
    {
      "cell_type": "code",
      "source": [
        "!wget --no-check https://d28rh4a8wq0iu5.cloudfront.net/ads1/data/phix.fa"
      ],
      "metadata": {
        "colab": {
          "base_uri": "https://localhost:8080/"
        },
        "id": "JvZVY6zdJpTA",
        "outputId": "b3719510-c027-4047-8b8f-2e5ac08a06c2"
      },
      "execution_count": null,
      "outputs": [
        {
          "output_type": "stream",
          "name": "stdout",
          "text": [
            "--2024-08-07 05:26:34--  https://d28rh4a8wq0iu5.cloudfront.net/ads1/data/phix.fa\n",
            "Resolving d28rh4a8wq0iu5.cloudfront.net (d28rh4a8wq0iu5.cloudfront.net)... 18.65.227.145, 18.65.227.121, 18.65.227.2, ...\n",
            "Connecting to d28rh4a8wq0iu5.cloudfront.net (d28rh4a8wq0iu5.cloudfront.net)|18.65.227.145|:443... connected.\n",
            "HTTP request sent, awaiting response... 200 OK\n",
            "Length: 5528 (5.4K) [application/octet-stream]\n",
            "Saving to: ‘phix.fa’\n",
            "\n",
            "phix.fa             100%[===================>]   5.40K  --.-KB/s    in 0s      \n",
            "\n",
            "2024-08-07 05:26:34 (956 MB/s) - ‘phix.fa’ saved [5528/5528]\n",
            "\n"
          ]
        }
      ]
    },
    {
      "cell_type": "code",
      "source": [
        "def read_genome(filepath):\n",
        "  genome = ''\n",
        "  with open(filepath) as f:\n",
        "    for line in f:\n",
        "      if not line[0] == '>':\n",
        "        genome += line.rstrip()\n",
        "  return genome\n",
        "\n",
        "genome = read_genome('/content/phix.fa')"
      ],
      "metadata": {
        "id": "aS-hzQUnTILK"
      },
      "execution_count": null,
      "outputs": []
    },
    {
      "cell_type": "code",
      "source": [
        "def naive(p, t):\n",
        "  occurrences = [] # track indeces where p matches t\n",
        "  for i in range(len(t) - len(p) + 1):   #loop through every pos in 't' that 'p' could start\n",
        "    match = True\n",
        "    for j in range (len(p)):   # Compare every char of p against corresponding pos in t\n",
        "      if not t[i+j] == p[j]:   # Comparing char & offset j w/in p to the char & offset i + j w/in t; accounts for being in i'th pos; offset b/c alignment trying & which char comparing\n",
        "        match = False\n",
        "        break\n",
        "    if match:\n",
        "      occurrences.append(i)\n",
        "  return occurrences\n"
      ],
      "metadata": {
        "id": "cNW11ce9T94i"
      },
      "execution_count": null,
      "outputs": []
    },
    {
      "cell_type": "code",
      "source": [
        "t = 'AGCTTAGATAGC'\n",
        "p = 'AG'\n",
        "naive (p, t)"
      ],
      "metadata": {
        "colab": {
          "base_uri": "https://localhost:8080/"
        },
        "id": "fpi2wYchUflq",
        "outputId": "cd4af5d6-ce25-44ca-ed0f-c3a7e9813151"
      },
      "execution_count": null,
      "outputs": [
        {
          "output_type": "execute_result",
          "data": {
            "text/plain": [
              "[0, 5, 9]"
            ]
          },
          "metadata": {},
          "execution_count": 10
        }
      ]
    },
    {
      "cell_type": "code",
      "source": [
        "t[9:11]"
      ],
      "metadata": {
        "colab": {
          "base_uri": "https://localhost:8080/",
          "height": 36
        },
        "id": "1NcuGdjXYBT1",
        "outputId": "603213d7-e847-44d8-ecf5-1455e70a1c6d"
      },
      "execution_count": null,
      "outputs": [
        {
          "output_type": "execute_result",
          "data": {
            "text/plain": [
              "'AG'"
            ],
            "application/vnd.google.colaboratory.intrinsic+json": {
              "type": "string"
            }
          },
          "metadata": {},
          "execution_count": 12
        }
      ]
    },
    {
      "cell_type": "code",
      "source": [
        "# Generate reads from random pos in given genome\n",
        "\n",
        "\n",
        "import random\n",
        "def generate_reads(genome, num_reads, read_len):\n",
        "  \"\"\" Generate reads from random positions in the given genome\"\"\"\n",
        "\n",
        "  reads = []\n",
        "  for _ in range(num_reads):\n",
        "    start = random.randint(0, len(genome)-read_len) - 1\n",
        "    reads.append(genome[start : start + read_len])\n",
        "  return reads"
      ],
      "metadata": {
        "id": "hGOdWw2GYKsX"
      },
      "execution_count": null,
      "outputs": []
    },
    {
      "cell_type": "code",
      "source": [
        "reads = generate_reads(genome, 100, 100)\n",
        "\n",
        "num_matched = 0\n",
        "for r in reads:\n",
        "  matches = naive(r, genome)   # List of indeces where 'r' matches genome\n",
        "  if len(matches) > 0:\n",
        "    num_matched += 1\n",
        "\n",
        "print('%d / %d reads matched exactly:' % (num_matched, len(reads)))   # Print reads that match"
      ],
      "metadata": {
        "colab": {
          "base_uri": "https://localhost:8080/"
        },
        "id": "n-DDxNSwaYlT",
        "outputId": "6d5f069d-08f5-47aa-ea53-393ce8a31113"
      },
      "execution_count": null,
      "outputs": [
        {
          "output_type": "stream",
          "name": "stdout",
          "text": [
            "100 / 100 reads matched exactly:\n"
          ]
        }
      ]
    },
    {
      "cell_type": "code",
      "source": [],
      "metadata": {
        "id": "vcbMaQZMbxKd"
      },
      "execution_count": null,
      "outputs": []
    },
    {
      "cell_type": "markdown",
      "source": [
        "##**Matching Real Reads**"
      ],
      "metadata": {
        "id": "RpKlGu5OdE1g"
      }
    },
    {
      "cell_type": "code",
      "source": [
        "# Seq errors, double stranded, &/or diffs in org & ref genome\n",
        "#reverse_complemement\n",
        "\n",
        "def reverse_complement(s):\n",
        "  complement = {\n",
        "    'A':'T',\n",
        "    'T':'A',\n",
        "    'G':'C',\n",
        "    'C':'G',\n",
        "    'N':'N'}\n",
        "  t = ''\n",
        "  for base in s:\n",
        "    t = complement[base] + t\n",
        "  return t\n",
        "\n",
        "\n"
      ],
      "metadata": {
        "id": "smobImalvhSV"
      },
      "execution_count": null,
      "outputs": []
    },
    {
      "cell_type": "code",
      "source": [
        "!wget --no-check https://d28rh4a8wq0iu5.cloudfront.net/ads1/data/ERR266411_1.first1000.fastq"
      ],
      "metadata": {
        "colab": {
          "base_uri": "https://localhost:8080/"
        },
        "id": "hS8VX1FsdZdN",
        "outputId": "ebcb4b48-9332-48a4-a49a-18ddece7ccd4"
      },
      "execution_count": null,
      "outputs": [
        {
          "output_type": "stream",
          "name": "stdout",
          "text": [
            "--2024-08-07 06:11:01--  https://d28rh4a8wq0iu5.cloudfront.net/ads1/data/ERR266411_1.first1000.fastq\n",
            "Resolving d28rh4a8wq0iu5.cloudfront.net (d28rh4a8wq0iu5.cloudfront.net)... 18.65.227.179, 18.65.227.121, 18.65.227.2, ...\n",
            "Connecting to d28rh4a8wq0iu5.cloudfront.net (d28rh4a8wq0iu5.cloudfront.net)|18.65.227.179|:443... connected.\n",
            "HTTP request sent, awaiting response... 200 OK\n",
            "Length: 254384 (248K) [audio/mpeg]\n",
            "Saving to: ‘ERR266411_1.first1000.fastq’\n",
            "\n",
            "ERR266411_1.first10 100%[===================>] 248.42K  --.-KB/s    in 0.03s   \n",
            "\n",
            "2024-08-07 06:11:01 (9.56 MB/s) - ‘ERR266411_1.first1000.fastq’ saved [254384/254384]\n",
            "\n"
          ]
        }
      ]
    },
    {
      "cell_type": "code",
      "source": [
        "def read_fastq(filepath):\n",
        "  sequences = []\n",
        "  qualities = []\n",
        "  with open(filepath) as fh: #fh is file handle\n",
        "    while True: # read 4 lines at a time per file format\n",
        "      fh.readline() # Tag; not needed so read but don't store to a variable\n",
        "      seq = fh.readline().rstrip() # Save to variable seq\n",
        "      fh.readline() # + symbol not needed so just read don't store to a variable\n",
        "      qual = fh.readline().rstrip()\n",
        "      if len(seq) == 0: # Check if you've reached end of file\n",
        "        break\n",
        "\n",
        "      sequences.append(seq) #if still reading lines, append values to list\n",
        "      qualities.append(qual)\n",
        "    return sequences, qualities\n",
        "\n",
        "\n",
        "\n",
        "phix_reads, _ = read_fastq('/content/ERR266411_1.first1000.fastq')"
      ],
      "metadata": {
        "id": "QKGEWv45dlZ9"
      },
      "execution_count": null,
      "outputs": []
    },
    {
      "cell_type": "code",
      "source": [
        "num_matched = 0\n",
        "n = 0\n",
        "for r in phix_reads:\n",
        "  r = r[:40]\n",
        "  matches = naive(r, genome)\n",
        "  n += 1\n",
        "  if len(matches) > 0:\n",
        "    num_matched += 1\n",
        "print('%d / %d reads matched the genome!' % (num_matched, n))"
      ],
      "metadata": {
        "colab": {
          "base_uri": "https://localhost:8080/"
        },
        "id": "E0wVYARCeUGb",
        "outputId": "f1c6e068-7e43-458f-9fc9-8f2060778ef5"
      },
      "execution_count": null,
      "outputs": [
        {
          "output_type": "stream",
          "name": "stdout",
          "text": [
            "425 / 1000 reads matched the genome!\n"
          ]
        }
      ]
    },
    {
      "cell_type": "code",
      "source": [
        "num_matched = 0\n",
        "n = 0\n",
        "for r in phix_reads:\n",
        "  r = r[:40]\n",
        "  matches = naive(r, genome)\n",
        "  matches.extend(naive(reverse_complement(r), genome))\n",
        "  n += 1\n",
        "  if len(matches) > 0:\n",
        "    num_matched += 1\n",
        "print('%d / %d reads matched the genome!' % (num_matched, n))"
      ],
      "metadata": {
        "colab": {
          "base_uri": "https://localhost:8080/"
        },
        "id": "rxdUP9OHw693",
        "outputId": "1dcad5e6-c308-4f98-98d8-584d7e53100d"
      },
      "execution_count": null,
      "outputs": [
        {
          "output_type": "stream",
          "name": "stdout",
          "text": [
            "894 / 1000 reads matched the genome!\n"
          ]
        }
      ]
    },
    {
      "cell_type": "code",
      "source": [
        "# exact matching now ideal, account for seq errors"
      ],
      "metadata": {
        "id": "mdZr13TvxShr"
      },
      "execution_count": null,
      "outputs": []
    },
    {
      "cell_type": "markdown",
      "source": [
        "#**HW1:**\n"
      ],
      "metadata": {
        "id": "hXxkwdnW2nZk"
      }
    },
    {
      "cell_type": "code",
      "source": [
        "# Seq errors, double stranded, &/or diffs in org & ref genome\n",
        "#reverse_complemement\n",
        "\n",
        "def reverse_complement(s):\n",
        "  complement = {\n",
        "    'A':'T',\n",
        "    'T':'A',\n",
        "    'G':'C',\n",
        "    'C':'G',\n",
        "    'N':'N'}\n",
        "  t = ''\n",
        "  for base in s:\n",
        "    t = complement[base] + t\n",
        "  return t"
      ],
      "metadata": {
        "id": "DrjsrW1087O7"
      },
      "execution_count": null,
      "outputs": []
    },
    {
      "cell_type": "code",
      "source": [
        "def naive(p, t):\n",
        "  occurrences = [] # track indeces where p matches t\n",
        "  for i in range(len(t) - len(p) + 1):   #loop through every pos in 't' that 'p' could start\n",
        "    match = True\n",
        "    for j in range (len(p)):   # Compare every char of p against corresponding pos in t\n",
        "      if not t[i+j] == p[j]:   # Comparing char & offset j w/in p to the char & offset i + j w/in t; accounts for being in i'th pos; offset b/c alignment trying & which char comparing\n",
        "        match = False\n",
        "        break\n",
        "    if match:\n",
        "      occurrences.append(i)\n",
        "  return occurrences"
      ],
      "metadata": {
        "id": "mHashqt96XWg"
      },
      "execution_count": null,
      "outputs": []
    },
    {
      "cell_type": "code",
      "source": [
        "num_matched = 0\n",
        "n = 0\n",
        "for r in reads:\n",
        "  r = r[:40]\n",
        "  matches = naive(r, genome)\n",
        "  matches.extend(naive(reverse_complement(r), genome))\n",
        "  n += 1\n",
        "  if len(matches) > 0:\n",
        "    num_matched += 1\n",
        "print('%d / %d reads matched the genome!' % (num_matched, n))"
      ],
      "metadata": {
        "colab": {
          "base_uri": "https://localhost:8080/"
        },
        "id": "2fm_H9px7894",
        "outputId": "a80069dd-7322-45cb-a35e-7fb73693cfff"
      },
      "execution_count": null,
      "outputs": [
        {
          "output_type": "stream",
          "name": "stdout",
          "text": [
            "100 / 100 reads matched the genome!\n"
          ]
        }
      ]
    },
    {
      "cell_type": "code",
      "source": [
        "p = 'AGGT'\n",
        "rcp = 'ACCT'\n",
        "\n",
        "match_p = naive(p,genome)\n",
        "print(\"Occurrences: \", len(match_p))\n",
        "\n",
        "match_rcp =  naive(rcp, genome)\n",
        "print(\"Reverse Complement Occurrences: \", len(match_rcp))\n",
        "total_occurrences = len(match_p) + len(match_rcp)\n",
        "print(\"Total Occurrences: \", total_occurrences)"
      ],
      "metadata": {
        "colab": {
          "base_uri": "https://localhost:8080/"
        },
        "id": "zIGm0faiBCtF",
        "outputId": "573be8fd-994b-4336-efd7-dfff633aee55"
      },
      "execution_count": null,
      "outputs": [
        {
          "output_type": "stream",
          "name": "stdout",
          "text": [
            "Occurrences:  150\n",
            "Reverse Complement Occurrences:  156\n",
            "Total Occurrences:  306\n"
          ]
        }
      ]
    },
    {
      "cell_type": "code",
      "source": [
        "p = 'TTAA'\n",
        "rcp = 'AATT'\n",
        "\n",
        "match_p = naive(p,genome)\n",
        "print(\"Occurrences: \", len(match_p))\n",
        "\n",
        "match_rcp =  naive(rcp, genome)\n",
        "print(\"Reverse Complement Occurrences: \", len(match_rcp))\n",
        "total_occurrences = len(match_p) + len(match_rcp)\n",
        "print(\"Total Occurrences: \", total_occurrences)"
      ],
      "metadata": {
        "colab": {
          "base_uri": "https://localhost:8080/"
        },
        "id": "5BGWNK4mC7sS",
        "outputId": "ca9c5ce0-f155-4ce4-8bc8-0451ea5d1fc9"
      },
      "execution_count": null,
      "outputs": [
        {
          "output_type": "stream",
          "name": "stdout",
          "text": [
            "Occurrences:  195\n",
            "Reverse Complement Occurrences:  189\n",
            "Total Occurrences:  384\n"
          ]
        }
      ]
    },
    {
      "cell_type": "code",
      "source": [
        "p = 'ACTAAGT'\n",
        "rcp = reverse_complement(p)\n",
        "\n",
        "matched_p = naive(p,genome)\n",
        "print(\"Occurrences of p: \", matched_p)\n",
        "matched_rcp = naive(rcp, genome)\n",
        "print(\"Occurrences of rcp: \", matched_rcp)\n",
        "\n"
      ],
      "metadata": {
        "colab": {
          "base_uri": "https://localhost:8080/"
        },
        "id": "xKT1oh_aE9R3",
        "outputId": "890b018c-969f-4981-c5ad-67d14508882f"
      },
      "execution_count": null,
      "outputs": [
        {
          "output_type": "stream",
          "name": "stdout",
          "text": [
            "Occurrences of p:  [27733, 45382]\n",
            "Occurrences of rcp:  [26028]\n"
          ]
        }
      ]
    },
    {
      "cell_type": "code",
      "source": [
        "p = 'AGTCGA'\n",
        "rcp = reverse_complement(p)\n",
        "\n",
        "matched_p = naive(p,genome)\n",
        "print(\"Occurrences of p: \", matched_p)\n",
        "matched_rcp = naive(rcp, genome)\n",
        "print(\"Occurrences of rcp: \", matched_rcp)"
      ],
      "metadata": {
        "colab": {
          "base_uri": "https://localhost:8080/"
        },
        "id": "N-yGI9BjGLr0",
        "outputId": "1b7cfe94-e1b9-4563-d4b0-8b428b2956e6"
      },
      "execution_count": null,
      "outputs": [
        {
          "output_type": "stream",
          "name": "stdout",
          "text": [
            "Occurrences of p:  [18005, 23320, 33657, 44806]\n",
            "Occurrences of rcp:  [450, 1908, 2472, 41927, 45369]\n"
          ]
        }
      ]
    },
    {
      "cell_type": "code",
      "source": [
        "# Matched occurrences allowing 2 mismatches\n",
        "\n",
        "\n",
        "def naive_2mm(p, t):\n",
        "  occurrences = [] # track indeces where p matches t\n",
        "  for i in range(len(t) - len(p) + 1):   #loop through every pos in 't' that 'p' could start\n",
        "\n",
        "    mismatches = 0\n",
        "    for j in range (len(p)):   # Compare every char of p against corresponding pos in t\n",
        "      if not t[i+j] == p[j]:   # Comparing char & offset j w/in p to the char & offset i + j w/in t; accounts for being in i'th pos; offset b/c alignment trying & which char comparing\n",
        "        mismatches += 1\n",
        "        if mismatches > 2:\n",
        "          break\n",
        "    if mismatches <= 2:\n",
        "      occurrences.append(i)\n",
        "  return occurrences\n"
      ],
      "metadata": {
        "id": "iYT0m937IpgG"
      },
      "execution_count": null,
      "outputs": []
    },
    {
      "cell_type": "code",
      "source": [
        "p = 'TTCAAGCC'\n",
        "\n",
        "matches = naive_2mm(p, genome)\n",
        "\n",
        "print(\"Number of Occurences, allowing 2 mismatches: \", len(matches))"
      ],
      "metadata": {
        "colab": {
          "base_uri": "https://localhost:8080/"
        },
        "id": "7dhVIKGfLPYA",
        "outputId": "b5692ab4-2481-4232-ab64-bf69d327bb19"
      },
      "execution_count": null,
      "outputs": [
        {
          "output_type": "stream",
          "name": "stdout",
          "text": [
            "Number of Occurences, allowing 2 mismatches:  191\n"
          ]
        }
      ]
    },
    {
      "cell_type": "code",
      "source": [
        "p = 'AGGAGGTT'\n",
        "\n",
        "matches = naive_2mm(p, genome)\n",
        "\n",
        "print(\"Number of Occurences, allowing 2 mismatches: \", len(matches))"
      ],
      "metadata": {
        "colab": {
          "base_uri": "https://localhost:8080/"
        },
        "id": "BGCIvwTZMtco",
        "outputId": "12177601-ab65-45e2-9e68-4abb62744a02"
      },
      "execution_count": null,
      "outputs": [
        {
          "output_type": "stream",
          "name": "stdout",
          "text": [
            "Number of Occurences, allowing 2 mismatches:  215\n"
          ]
        }
      ]
    },
    {
      "cell_type": "code",
      "source": [
        "!wget --no-check https://d28rh4a8wq0iu5.cloudfront.net/ads1/data/lambda_virus.fa"
      ],
      "metadata": {
        "colab": {
          "base_uri": "https://localhost:8080/"
        },
        "id": "yDlyFy3N2z0z",
        "outputId": "3c718bed-b1da-4404-ae44-19c2f1713c0d"
      },
      "execution_count": null,
      "outputs": [
        {
          "output_type": "stream",
          "name": "stdout",
          "text": [
            "--2024-08-07 17:35:14--  https://d28rh4a8wq0iu5.cloudfront.net/ads1/data/lambda_virus.fa\n",
            "Resolving d28rh4a8wq0iu5.cloudfront.net (d28rh4a8wq0iu5.cloudfront.net)... 13.35.37.49, 13.35.37.173, 13.35.37.71, ...\n",
            "Connecting to d28rh4a8wq0iu5.cloudfront.net (d28rh4a8wq0iu5.cloudfront.net)|13.35.37.49|:443... connected.\n",
            "HTTP request sent, awaiting response... 200 OK\n",
            "Length: 49270 (48K) [application/octet-stream]\n",
            "Saving to: ‘lambda_virus.fa’\n",
            "\n",
            "lambda_virus.fa     100%[===================>]  48.12K   276KB/s    in 0.2s    \n",
            "\n",
            "2024-08-07 17:35:15 (276 KB/s) - ‘lambda_virus.fa’ saved [49270/49270]\n",
            "\n"
          ]
        }
      ]
    },
    {
      "cell_type": "code",
      "source": [
        "def read_genome(filepath):\n",
        "  genome = ''\n",
        "  with open(filepath) as f:\n",
        "    for line in f:\n",
        "      if not line[0] == '>':\n",
        "        genome += line.rstrip()\n",
        "  return genome\n",
        "\n",
        "genome = read_genome('/content/lambda_virus.fa')\n",
        "\n",
        "genome = read_genome('/content/lambda_virus.fa')\n",
        "genome_length = len(genome)\n",
        "print(\"Length of genome: \", genome_length)\n",
        "genome[:100] #1st 100 bases of genome"
      ],
      "metadata": {
        "colab": {
          "base_uri": "https://localhost:8080/",
          "height": 53
        },
        "id": "Sp8WLV3C6Mdb",
        "outputId": "560c397e-33f7-4f73-b996-4dbcf305bd4b"
      },
      "execution_count": null,
      "outputs": [
        {
          "output_type": "stream",
          "name": "stdout",
          "text": [
            "Length of genome:  48502\n"
          ]
        },
        {
          "output_type": "execute_result",
          "data": {
            "text/plain": [
              "'GGGCGGCGACCTCGCGGGTTTTCGCTATTTATGAAAATTTTCCGGTTTAAGGCGTTTCCGTTCTTCTTCGTCATAACTTAATGTTTTTATTTAAAATACC'"
            ],
            "application/vnd.google.colaboratory.intrinsic+json": {
              "type": "string"
            }
          },
          "metadata": {},
          "execution_count": 8
        }
      ]
    },
    {
      "cell_type": "code",
      "source": [
        "!wget --no-check https://d28rh4a8wq0iu5.cloudfront.net/ads1/data/ERR037900_1.first1000.fastq"
      ],
      "metadata": {
        "colab": {
          "base_uri": "https://localhost:8080/"
        },
        "id": "T0eFJsUhNR0u",
        "outputId": "3bd4aed2-3138-4557-f83a-53a7c6a52aee"
      },
      "execution_count": null,
      "outputs": [
        {
          "output_type": "stream",
          "name": "stdout",
          "text": [
            "--2024-08-07 18:59:00--  https://d28rh4a8wq0iu5.cloudfront.net/ads1/data/ERR037900_1.first1000.fastq\n",
            "Resolving d28rh4a8wq0iu5.cloudfront.net (d28rh4a8wq0iu5.cloudfront.net)... 13.35.37.198, 13.35.37.173, 13.35.37.49, ...\n",
            "Connecting to d28rh4a8wq0iu5.cloudfront.net (d28rh4a8wq0iu5.cloudfront.net)|13.35.37.198|:443... connected.\n",
            "HTTP request sent, awaiting response... 200 OK\n",
            "Length: 241626 (236K) [application/octet-stream]\n",
            "Saving to: ‘ERR037900_1.first1000.fastq’\n",
            "\n",
            "ERR037900_1.first10 100%[===================>] 235.96K   449KB/s    in 0.5s    \n",
            "\n",
            "2024-08-07 18:59:02 (449 KB/s) - ‘ERR037900_1.first1000.fastq’ saved [241626/241626]\n",
            "\n"
          ]
        }
      ]
    },
    {
      "cell_type": "code",
      "source": [
        "#FASTQ format:\n",
        "#Name\n",
        "#Sequence\n",
        "#+ (ignore)\n",
        "#Base qualities (ASCII encoded value of Q = -10log10^p)\n",
        "\n",
        "\n",
        "\n",
        "# Phred33:\n",
        "# Base quality 'Q' value -> corresponding character\n",
        "# Round 'Q' to nearest integer, add (33), match (#) to ASCII designated characters\n",
        "\n",
        "\n",
        "def QtoPhred33(Q):\n",
        "  \"\"\"Turn Q into Phred+33 ASCII-encoded quality\"\"\"\n",
        "  return chr(Q + 33)\n",
        "\n",
        "\n",
        "def phred33ToQ(character):\n",
        "  \"Turn Phred+33 ASCII encoded quality into Q\"\"\"\n",
        "  return ord(character)-33"
      ],
      "metadata": {
        "id": "76ifspdBNE9z"
      },
      "execution_count": null,
      "outputs": []
    },
    {
      "cell_type": "code",
      "source": [
        "def read_fastq(filepath):\n",
        "  sequences = []\n",
        "  qualities = []\n",
        "  with open(filepath) as fh: #fh is file handle\n",
        "    while True: # read 4 lines at a time per file format\n",
        "      fh.readline() # Tag; not needed so read but don't store to a variable\n",
        "      seq = fh.readline().rstrip() # Save to variable seq\n",
        "      fh.readline() # + symbol not needed so just read don't store to a variable\n",
        "      qual = fh.readline().rstrip()\n",
        "      if len(seq) == 0: # Check if you've reached end of file\n",
        "        break\n",
        "\n",
        "      sequences.append(seq) #if still reading lines, append values to list\n",
        "      qualities.append(qual)\n",
        "    return sequences, qualities\n",
        "\n",
        "\n",
        "\n",
        "seqs, quals = read_fastq('/content/ERR037900_1.first1000.fastq')"
      ],
      "metadata": {
        "id": "zfCdzRcGNNRj"
      },
      "execution_count": null,
      "outputs": []
    },
    {
      "cell_type": "code",
      "source": [
        "def create_hist(qualities):   # define function for what we want to do, using\n",
        "  hist = [0] * 50   # freq of qual. score seen; range for score ~41; 50 for cushion\n",
        "  for qual in qualities:   # for each string of quality values in our list 'qualities'\n",
        "    for phred in qual:    # look through quality scores 'phred' in each string 'qual'\n",
        "      q = phred33ToQ(phred)   # convert to a number by calling phred function\n",
        "      hist[q] += 1    # increment value q in histogram\n",
        "  return hist\n",
        "\n",
        "h = create_hist(quals)\n",
        "print(h) #histogram values"
      ],
      "metadata": {
        "colab": {
          "base_uri": "https://localhost:8080/"
        },
        "id": "_w0OtEg1OH4r",
        "outputId": "5fc649a7-b028-45ec-f72c-3bb0223f5503"
      },
      "execution_count": null,
      "outputs": [
        {
          "output_type": "stream",
          "name": "stdout",
          "text": [
            "[0, 0, 17723, 0, 2, 11, 11, 28, 23, 55, 100, 111, 86, 174, 185, 272, 317, 259, 390, 1523, 2782, 762, 286, 413, 403, 538, 351, 694, 971, 777, 1024, 1449, 1341, 1312, 1916, 2233, 3025, 4043, 6640, 45696, 2074, 0, 0, 0, 0, 0, 0, 0, 0, 0]\n"
          ]
        }
      ]
    },
    {
      "cell_type": "code",
      "source": [
        "import matplotlib.pyplot as plt\n",
        "\n",
        "\n",
        "plt.bar(range(len(h)), h, color='pink')\n",
        "plt.xlabel('Quality Score')\n",
        "plt.ylabel('Frequency')\n",
        "plt.grid(axis = 'y', linestyle = '--', alpha = 0.7) # Grid lines\n",
        "plt.xticks(range (0, len(h), 2)) # Show every 5th tick\n",
        "plt.title('Distribution of Base Quality Scores (Phred+33) from Sequencing Data', fontsize = 11)\n",
        "plt.show()   # distribution of quality score values"
      ],
      "metadata": {
        "colab": {
          "base_uri": "https://localhost:8080/",
          "height": 470
        },
        "id": "rXn9317OOUBB",
        "outputId": "34618b09-fbfc-4b93-daf7-8626c418df34"
      },
      "execution_count": null,
      "outputs": [
        {
          "output_type": "display_data",
          "data": {
            "text/plain": [
              "<Figure size 640x480 with 1 Axes>"
            ],
            "image/png": "[encoded data removed]"
          },
          "metadata": {}
        }
      ]
    },
    {
      "cell_type": "code",
      "source": [],
      "metadata": {
        "id": "ZRZx8nhiOVt9"
      },
      "execution_count": null,
      "outputs": []
    }
  ]
}