{
  "nbformat": 4,
  "nbformat_minor": 0,
  "metadata": {
    "colab": {
      "provenance": [],
      "include_colab_link": true
    },
    "kernelspec": {
      "name": "python3",
      "display_name": "Python 3"
    },
    "language_info": {
      "name": "python"
    }
  },
  "cells": [
    {
      "cell_type": "markdown",
      "metadata": {
        "id": "view-in-github",
        "colab_type": "text"
      },
      "source": [
        "<a href=\"https://colab.research.google.com/github/AdrieonK/Bioinformatics-Data-Science/blob/main/gc_perc.ipynb\" target=\"_parent\"><img src=\"https://colab.research.google.com/assets/colab-badge.svg\" alt=\"Open In Colab\"/></a>"
      ]
    },
    {
      "cell_type": "markdown",
      "source": [
        "#**Import**"
      ],
      "metadata": {
        "id": "tC64tjPYpIX6"
      }
    },
    {
      "cell_type": "code",
      "execution_count": null,
      "metadata": {
        "id": "15_DR42ho2cH"
      },
      "outputs": [],
      "source": [
        "import numpy as np\n",
        "import pandas as pd\n",
        "import matplotlib.pyplot as plt\n",
        "import matplotlib as mpl"
      ]
    },
    {
      "cell_type": "markdown",
      "source": [
        "#**DNA Sequence Input**"
      ],
      "metadata": {
        "id": "D9Yf9uMzpjSk"
      }
    },
    {
      "cell_type": "code",
      "source": [
        "dna_seq = input(\"Enter DNA sequence: \").upper()\n",
        "print(dna_seq)"
      ],
      "metadata": {
        "colab": {
          "base_uri": "https://localhost:8080/"
        },
        "id": "jLiaSU5Epnq3",
        "outputId": "be1542b4-4769-4679-8f21-04aa2e234aed"
      },
      "execution_count": null,
      "outputs": [
        {
          "output_type": "stream",
          "name": "stdout",
          "text": [
            "Enter DNA sequence: GATACAF1\n",
            "GATACAF1\n"
          ]
        }
      ]
    },
    {
      "cell_type": "markdown",
      "source": [
        "##**Valid Sequence Check**"
      ],
      "metadata": {
        "id": "wFmUYLMZzskD"
      }
    },
    {
      "cell_type": "code",
      "source": [
        "for i in range(len(dna_seq)):\n",
        "  if dna_seq[i] not in 'ATGC':\n",
        "\n",
        "    print(\"This sequence contains invalid nucleotides %s at postion %d\" %(dna_seq[i],i))\n",
        "  else: continue"
      ],
      "metadata": {
        "colab": {
          "base_uri": "https://localhost:8080/"
        },
        "id": "MljMVDWkz6Ov",
        "outputId": "c051951d-d8f2-4803-9eb3-c113452d589e"
      },
      "execution_count": null,
      "outputs": [
        {
          "output_type": "stream",
          "name": "stdout",
          "text": [
            "This sequence contains invalid nucleotides F at postion 6\n",
            "This sequence contains invalid nucleotides 1 at postion 7\n"
          ]
        }
      ]
    },
    {
      "cell_type": "markdown",
      "source": [
        "##**Remove Invalid Nucleotides**"
      ],
      "metadata": {
        "id": "KE0NMEODIe7N"
      }
    },
    {
      "cell_type": "code",
      "source": [
        "print(' Would you like to remove them and continue?')\n",
        "upd_dna_seq = input('Yes or No: ')\n",
        "\n",
        "\n",
        "if upd_dna_seq == 'No':\n",
        "    exit()\n",
        "if upd_dna_seq == 'Yes':\n",
        "  val_dna_seq = ''\n",
        "  for i in range(len(dna_seq)):\n",
        "    if dna_seq[i] not in 'ATGC':\n",
        "      continue\n",
        "    val_dna_seq = val_dna_seq + dna_seq[i]\n",
        "  print(\"Valid DNA sequence is: %s\" %val_dna_seq)\n",
        "\n",
        "\n"
      ],
      "metadata": {
        "colab": {
          "base_uri": "https://localhost:8080/"
        },
        "id": "D836GA-KIekY",
        "outputId": "f794219b-4637-48ae-896d-a4dfa1725bbd"
      },
      "execution_count": null,
      "outputs": [
        {
          "output_type": "stream",
          "name": "stdout",
          "text": [
            " Would you like to remove them and continue?\n",
            "Yes or No: Yes\n",
            "Valid DNA sequence is: GATACA\n"
          ]
        }
      ]
    },
    {
      "cell_type": "markdown",
      "source": [
        "#**DNA Sequence Length**"
      ],
      "metadata": {
        "id": "mVdMwht6vHFS"
      }
    },
    {
      "cell_type": "code",
      "source": [
        "dna_len = len(val_dna_seq)\n",
        "print(dna_len)"
      ],
      "metadata": {
        "colab": {
          "base_uri": "https://localhost:8080/"
        },
        "id": "LONYaMBZvPdS",
        "outputId": "ba1e67e7-2b40-4634-bb22-fa955d95a77d"
      },
      "execution_count": null,
      "outputs": [
        {
          "output_type": "stream",
          "name": "stdout",
          "text": [
            "6\n"
          ]
        }
      ]
    },
    {
      "cell_type": "markdown",
      "source": [
        "#**GC Count**"
      ],
      "metadata": {
        "id": "MdSZtCk4pjRk"
      }
    },
    {
      "cell_type": "code",
      "source": [
        "g_count = val_dna_seq.count('G')\n",
        "c_count = val_dna_seq.count('C')\n",
        "gc_count = (g_count + c_count)\n",
        "print(gc_count)"
      ],
      "metadata": {
        "colab": {
          "base_uri": "https://localhost:8080/"
        },
        "id": "QJ1u1ZMkpnqM",
        "outputId": "4fed7d5b-bf8e-4423-fb0b-93256680d9d0"
      },
      "execution_count": null,
      "outputs": [
        {
          "output_type": "stream",
          "name": "stdout",
          "text": [
            "2\n"
          ]
        }
      ]
    },
    {
      "cell_type": "markdown",
      "source": [
        "#**GC Percent**"
      ],
      "metadata": {
        "id": "NMG8kTBSvBfb"
      }
    },
    {
      "cell_type": "code",
      "source": [
        "# Float -> Integer; gc_count type still float\n",
        "gc_perc = (gc_count/dna_len)*100\n",
        "print(int(gc_perc))"
      ],
      "metadata": {
        "colab": {
          "base_uri": "https://localhost:8080/"
        },
        "id": "0q_KvrBMvqbC",
        "outputId": "42fc8fb5-2dc2-4aa6-94e7-c57b463672f1"
      },
      "execution_count": null,
      "outputs": [
        {
          "output_type": "stream",
          "name": "stdout",
          "text": [
            "33\n"
          ]
        }
      ]
    },
    {
      "cell_type": "markdown",
      "source": [
        "#**Data Visualization**"
      ],
      "metadata": {
        "id": "gQfO_1EnWfTI"
      }
    },
    {
      "cell_type": "code",
      "source": [
        "labels = \"G-C\" , \"A-T\"\n",
        "\n",
        "sizes = gc_perc , (100-(gc_perc))\n",
        "\n",
        "fig, ax = plt.subplots()\n",
        "ax.pie(sizes, labels=labels, autopct='%1.1f%%', colors= ['blue','red'])"
      ],
      "metadata": {
        "colab": {
          "base_uri": "https://localhost:8080/",
          "height": 510
        },
        "id": "uK2w_0lDWk8B",
        "outputId": "eed868f4-3477-46aa-ef1b-f8866cc6c353"
      },
      "execution_count": null,
      "outputs": [
        {
          "output_type": "execute_result",
          "data": {
            "text/plain": [
              "([<matplotlib.patches.Wedge at 0x7a448cd4e2f0>,\n",
              "  <matplotlib.patches.Wedge at 0x7a448cce5630>],\n",
              " [Text(0.13259034041635367, 1.0919797624627827, 'G-C'),\n",
              "  Text(-0.13259044265487713, -1.0919797500487745, 'A-T')],\n",
              " [Text(0.07232200386346563, 0.5956253249796997, '46.2%'),\n",
              "  Text(-0.07232205962993296, -0.5956253182084223, '53.8%')])"
            ]
          },
          "metadata": {},
          "execution_count": 10
        },
        {
          "output_type": "display_data",
          "data": {
            "text/plain": [
              "<Figure size 640x480 with 1 Axes>"
            ],
            "image/png": "[encoded data removed]"
          },
          "metadata": {}
        }
      ]
    },
    {
      "cell_type": "code",
      "source": [],
      "metadata": {
        "id": "Pbp_OyfZdJjU"
      },
      "execution_count": null,
      "outputs": []
    }
  ]
}